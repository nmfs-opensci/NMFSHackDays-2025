{
 "cells": [
  {
   "cell_type": "raw",
   "id": "d0b0d6a5-2480-47c5-a9d2-6ff509ee11c7",
   "metadata": {},
   "source": [
    "---\n",
    "title: \"Run simple coiled example\"\n",
    "author: Eli Holmes (NOAA)\n",
    "---"
   ]
  },
  {
   "cell_type": "markdown",
   "id": "5d512898-7838-417f-9a7e-3a1db11be17e",
   "metadata": {},
   "source": [
    "# Run simple example with coiled\n",
    "\n",
    "This will spin up virtual machines on our behalf.\n",
    "\n",
    "Set-up\n",
    "\n",
    "* Go to coiled.io and set-up an account\n",
    "   - You need to associate it with a cloud account on AWS, Azure or GCP (Google). You can get a free 12 month trial on these.\n",
    "   - I find the Google Cloud dashboard more intuitive to use. But the set up for coiled was difficult.  I had to do it from my computer using Python and then it asked for me to install Google Cloud sdk CLI. I stopped at that point.\n",
    "   - AWS was easier. I already had a AWS account. I clicked buttons on coiled.io, logged into AWS as instructed, and got it linked.\n",
    "* Now back to the Jupyter notebook.\n",
    "  - Go to a terminal and make sure you are in the same conda environment that you will run your notebook in\n",
    "  - Run `coiled setup aws`. I assume you have coiled module installed. If not do `pip install coiled`.\n",
    "  - It is going to send you to the AWS Cloud Shell and will give you a link for that.\n",
    "  - It will give you some code to run in the shell. Note I had to clean up the code to remove some extra spaces. I couldn't just paste and run.\n",
    "  - When it is good, it will say it is authenticated.\n",
    "* Now run `coiled"
   ]
  },
  {
   "cell_type": "markdown",
   "id": "313d2bcd-ce18-4b1a-a063-cf9dc321551f",
   "metadata": {},
   "source": [
    "Example of the output\n",
    "\n",
    "```\n",
    "(coiled) jovyan@jupyter-eeholmes:~$ coiled setup aws\n",
    "╭────────────────────────────────────────────────────────────────────────────────────────╮\n",
    "│ Introduction                                                                           │\n",
    "│                                                                                        │\n",
    "│ This uses your AWS credentials to set up Coiled.                                       │\n",
    "│                                                                                        │\n",
    "│ This will do the following ...                                                         │\n",
    "│ 1. Create limited IAM roles and grant them to Coiled                                   │\n",
    "│ 2. Check and expand your AWS quota if needed                                           │\n",
    "│ 3. Create initial resources to deploy clusters                                         │\n",
    "│                                                                                        │\n",
    "│ This will not ...                                                                      │\n",
    "│ 1. Create resources that cost money                                                    │\n",
    "│ 2. Grant Coiled access to your data                                                    │\n",
    "╰────────────────────────────────────────────────────────────────────────────────────────╯\n",
    "Missing: You don't have local AWS credentials.\n",
    "That's ok, you can run setup from AWS CloudShell.\n",
    "\n",
    "Run setup from AWS CloudShell with the following steps:\n",
    "\n",
    "1. Go to https://console.aws.amazon.com/cloudshell\n",
    "2. Sign in to your AWS account\n",
    "   (if you usually switch role or profile, you should do this)\n",
    "3. Run the following command in CloudShell:\n",
    "\n",
    "  pip3 install coiled && \\\n",
    "  coiled login \\\n",
    "    --token b2bfb56 \\\n",
    "    --token 42713203-d \\\n",
    "    --token b82f66c && \\\n",
    "  coiled setup aws --region us-east-1\n",
    "```"
   ]
  },
  {
   "cell_type": "markdown",
   "id": "391c92ac-0bf9-41e2-a29b-c0c607b67329",
   "metadata": {},
   "source": [
    "Now that we have coiled set up, we can run a coiled cluster in Python."
   ]
  },
  {
   "cell_type": "code",
   "execution_count": 9,
   "id": "6306aca9-32b2-42f0-a7d9-8676b475db34",
   "metadata": {},
   "outputs": [],
   "source": [
    "# import needed modules\n",
    "import time, random\n",
    "\n",
    "# define our functions\n",
    "def inc(x):\n",
    "    time.sleep(random.random())\n",
    "    return x + 1\n",
    "\n",
    "def dec(x):\n",
    "    time.sleep(random.random())\n",
    "    return x - 1\n",
    "\n",
    "def add(x, y):\n",
    "    time.sleep(random.random())\n",
    "    return x + y"
   ]
  },
  {
   "cell_type": "code",
   "execution_count": 3,
   "id": "2615f491-338c-4749-848d-5abde2da86c9",
   "metadata": {},
   "outputs": [
    {
     "name": "stdout",
     "output_type": "stream",
     "text": [
      "[0, 1, 2, 3, 4, 5, 6, 7, 8, 9, 10, 11, 12, 13, 14, 15, 16, 17, 18, 19]\n",
      "CPU times: user 0 ns, sys: 3.51 ms, total: 3.51 ms\n",
      "Wall time: 22.5 s\n"
     ]
    }
   ],
   "source": [
    "%%time\n",
    "\n",
    "# a sequential example with no parallelization\n",
    "results = []\n",
    "for x in range(20):\n",
    "    result = inc(x)\n",
    "    result = dec(result)\n",
    "    results.append(result)\n",
    "\n",
    "print(results)"
   ]
  },
  {
   "cell_type": "code",
   "execution_count": 5,
   "id": "8cf3c758-b8f7-409c-8e18-732930cc75f6",
   "metadata": {},
   "outputs": [],
   "source": [
    "import coiled # use a Coiled cluster"
   ]
  },
  {
   "cell_type": "markdown",
   "id": "c8a6520f-e5a7-4c2e-82a5-9ecb9bd27082",
   "metadata": {},
   "source": [
    "Set up cluster in the cloud where we can grab more workers. These 15 workers will cost about 5 cents a minute and this job from start (set-up) to finish is like 5 minutes so 25 cents. Almost all the time is the set-up of the workers. You can go to your dashboard on coiled to see how much compute time you used up."
   ]
  },
  {
   "cell_type": "code",
   "execution_count": 6,
   "id": "b0820d52-5c8b-4c3d-95b2-de34dea2d06a",
   "metadata": {},
   "outputs": [
    {
     "data": {
      "application/vnd.jupyter.widget-view+json": {
       "model_id": "71258030ccd64effa2e438ce5707ecfa",
       "version_major": 2,
       "version_minor": 0
      },
      "text/plain": [
       "Output()"
      ]
     },
     "metadata": {},
     "output_type": "display_data"
    },
    {
     "data": {
      "text/html": [
       "<pre style=\"white-space:pre;overflow-x:auto;line-height:normal;font-family:Menlo,'DejaVu Sans Mono',consolas,'Courier New',monospace\">myst-parser 0.18.1 has requirement mdit-py-plugins~=0.3.1, but you have mdit-py-plugins 0.4.0.\n",
       "</pre>\n"
      ],
      "text/plain": [
       "myst-parser 0.18.1 has requirement mdit-py-plugins~=0.3.1, but you have mdit-py-plugins 0.4.0.\n"
      ]
     },
     "metadata": {},
     "output_type": "display_data"
    },
    {
     "data": {
      "text/html": [
       "<pre style=\"white-space:pre;overflow-x:auto;line-height:normal;font-family:Menlo,'DejaVu Sans Mono',consolas,'Courier New',monospace\">Package - myst-parser, Pip check had the following issues that need resolving: \n",
       "myst-parser 0.18.1 has requirement mdit-py-plugins~=0.3.1, but you have mdit-py-plugins 0.4.0.\n",
       "</pre>\n"
      ],
      "text/plain": [
       "Package - myst-parser, Pip check had the following issues that need resolving: \n",
       "myst-parser 0.18.1 has requirement mdit-py-plugins~=0.3.1, but you have mdit-py-plugins 0.4.0.\n"
      ]
     },
     "metadata": {},
     "output_type": "display_data"
    },
    {
     "data": {
      "text/html": [
       "<pre style=\"white-space:pre;overflow-x:auto;line-height:normal;font-family:Menlo,'DejaVu Sans Mono',consolas,'Courier New',monospace\"></pre>\n"
      ],
      "text/plain": []
     },
     "metadata": {},
     "output_type": "display_data"
    },
    {
     "data": {
      "text/html": [
       "<pre style=\"white-space:pre;overflow-x:auto;line-height:normal;font-family:Menlo,'DejaVu Sans Mono',consolas,'Courier New',monospace\">╭──────────────────────────────── <span style=\"color: #008000; text-decoration-color: #008000; font-weight: bold\">Package Info</span> ────────────────────────────────╮\n",
       "│                            ╷                                                 │\n",
       "│  <span style=\"font-weight: bold\"> Package                  </span>│<span style=\"font-weight: bold\"> Note                                          </span>  │\n",
       "│ ╶──────────────────────────┼───────────────────────────────────────────────╴ │\n",
       "│   coiled_local_jovyan      │ Source wheel built from /home/jovyan            │\n",
       "│                            ╵                                                 │\n",
       "╰──────────────────────────────────────────────────────────────────────────────╯\n",
       "</pre>\n"
      ],
      "text/plain": [
       "╭──────────────────────────────── \u001b[1;32mPackage Info\u001b[0m ────────────────────────────────╮\n",
       "│                            ╷                                                 │\n",
       "│  \u001b[1m \u001b[0m\u001b[1mPackage                 \u001b[0m\u001b[1m \u001b[0m│\u001b[1m \u001b[0m\u001b[1mNote                                         \u001b[0m\u001b[1m \u001b[0m  │\n",
       "│ ╶──────────────────────────┼───────────────────────────────────────────────╴ │\n",
       "│   coiled_local_jovyan      │ Source wheel built from /home/jovyan            │\n",
       "│                            ╵                                                 │\n",
       "╰──────────────────────────────────────────────────────────────────────────────╯\n"
      ]
     },
     "metadata": {},
     "output_type": "display_data"
    },
    {
     "data": {
      "text/html": [
       "<pre style=\"white-space:pre;overflow-x:auto;line-height:normal;font-family:Menlo,'DejaVu Sans Mono',consolas,'Courier New',monospace\">╭────────────────────────── <span style=\"color: #800000; text-decoration-color: #800000; font-weight: bold\">Not Synced with Cluster</span> ───────────────────────────╮\n",
       "│               ╷                                                  ╷           │\n",
       "│  <span style=\"font-weight: bold\"> Package     </span>│<span style=\"font-weight: bold\"> Error                                            </span>│<span style=\"font-weight: bold\"> Risk    </span>  │\n",
       "│ ╶─────────────┼──────────────────────────────────────────────────┼─────────╴ │\n",
       "│   myst-parser │ Pip check had the following issues that need     │ Warning   │\n",
       "│               │ resolving:                                       │           │\n",
       "│               │ myst-parser 0.18.1 has requirement               │           │\n",
       "│               │ mdit-py-plugins~=0.3.1, but you have             │           │\n",
       "│               │ mdit-py-plugins 0.4.0.                           │           │\n",
       "│               ╵                                                  ╵           │\n",
       "╰──────────────────────────────────────────────────────────────────────────────╯\n",
       "</pre>\n"
      ],
      "text/plain": [
       "╭────────────────────────── \u001b[1;31mNot Synced with Cluster\u001b[0m ───────────────────────────╮\n",
       "│               ╷                                                  ╷           │\n",
       "│  \u001b[1m \u001b[0m\u001b[1mPackage    \u001b[0m\u001b[1m \u001b[0m│\u001b[1m \u001b[0m\u001b[1mError                                           \u001b[0m\u001b[1m \u001b[0m│\u001b[1m \u001b[0m\u001b[1mRisk   \u001b[0m\u001b[1m \u001b[0m  │\n",
       "│ ╶─────────────┼──────────────────────────────────────────────────┼─────────╴ │\n",
       "│   myst-parser │ Pip check had the following issues that need     │ Warning   │\n",
       "│               │ resolving:                                       │           │\n",
       "│               │ myst-parser 0.18.1 has requirement               │           │\n",
       "│               │ mdit-py-plugins~=0.3.1, but you have             │           │\n",
       "│               │ mdit-py-plugins 0.4.0.                           │           │\n",
       "│               ╵                                                  ╵           │\n",
       "╰──────────────────────────────────────────────────────────────────────────────╯\n"
      ]
     },
     "metadata": {},
     "output_type": "display_data"
    },
    {
     "data": {
      "application/vnd.jupyter.widget-view+json": {
       "model_id": "ba381c3215ed45979ab6bd658169a8af",
       "version_major": 2,
       "version_minor": 0
      },
      "text/plain": [
       "Output()"
      ]
     },
     "metadata": {},
     "output_type": "display_data"
    },
    {
     "data": {
      "text/html": [
       "<pre style=\"white-space:pre;overflow-x:auto;line-height:normal;font-family:Menlo,'DejaVu Sans Mono',consolas,'Courier New',monospace\"></pre>\n"
      ],
      "text/plain": []
     },
     "metadata": {},
     "output_type": "display_data"
    }
   ],
   "source": [
    "cluster = coiled.Cluster(n_workers=15) # run on a cluster in the cloud\n",
    "client = cluster.get_client()"
   ]
  },
  {
   "cell_type": "code",
   "execution_count": 10,
   "id": "6b20b32d-64dd-4ce4-b18d-bd7a6d6b9855",
   "metadata": {},
   "outputs": [
    {
     "name": "stdout",
     "output_type": "stream",
     "text": [
      "[0, 1, 2, 3, 4, 5, 6, 7, 8, 9, 10, 11, 12, 13, 14, 15, 16, 17, 18, 19]\n",
      "CPU times: user 140 ms, sys: 1.54 ms, total: 141 ms\n",
      "Wall time: 2.18 s\n"
     ]
    }
   ],
   "source": [
    "%%time\n",
    "results = []\n",
    "for x in range(20): # scale 100x\n",
    "    result = client.submit(inc, x)\n",
    "    result = client.submit(dec, result)\n",
    "    results.append(result)\n",
    "\n",
    "results = client.gather(results)\n",
    "print(results)"
   ]
  },
  {
   "cell_type": "code",
   "execution_count": 11,
   "id": "21f001b0-5548-4d8d-a2e4-83d06837f493",
   "metadata": {},
   "outputs": [],
   "source": [
    "# Close our cluster as soon as we are done because running it uses $\n",
    "client.close()\n",
    "cluster.close()"
   ]
  }
 ],
 "metadata": {
  "kernelspec": {
   "display_name": "Python 3 (ipykernel)",
   "language": "python",
   "name": "python3"
  },
  "language_info": {
   "codemirror_mode": {
    "name": "ipython",
    "version": 3
   },
   "file_extension": ".py",
   "mimetype": "text/x-python",
   "name": "python",
   "nbconvert_exporter": "python",
   "pygments_lexer": "ipython3",
   "version": "3.10.14"
  }
 },
 "nbformat": 4,
 "nbformat_minor": 5
}
