{
 "cells": [
  {
   "cell_type": "markdown",
   "id": "fluid-county",
   "metadata": {},
   "source": [
    "Objectives\n",
    "\n",
    "1) how to log in to the ArcGIS Online and NOAA GeoPlatform\n",
    "2) create a basic map\n",
    "3) search for and add ArcGIS Online or NOAA GeoPlatform layers (eclipse path, eclipse cities)\n",
    "4) download netcdf file from NCAR Thredds server (bonus if you can do all this from python)\n",
    "Datset page:\n",
    "https://thredds.ucar.edu/thredds/ncss/grid/grib/NCEP/NBM/CONUS/National_Blend_CONUS_20240405_1600.grib2/dataset.html\n",
    "-select variable \"Total cloud cover @ Ground or water surface\"\n",
    "-set Time Subset to \"single time\" and value \"2024-04-08T18:00:00Z\"\n",
    "-set Download format to \"netcdf4-classic\"\n",
    "\n",
    "Final Download URL:\n",
    "https://thredds.ucar.edu/thredds/ncss/grid/grib/NCEP/NBM/CONUS/National_Blend_CONUS_20240405_1600.grib2?var=Total_cloud_cover_surface&north=57.098&west=-138.394&east=-59.022&south=19.215&horizStride=1&time=2024-04-08T18:00:00Z&&accept=netcdf4-classic\n",
    "5) Upload to your JupyterHub file home\n",
    "6) (in external geospatial python container) read National Blend of Models (NBM) GRIB2 sky cover data, select cells with sky cover less or equal to 25%, convert raster to vector polygons, export to file\n",
    "7) Start jupyterhub with a the custom arcgis python image\n",
    "- https://itcoocean.2i2c.cloud/\n",
    "- log in\n",
    "- bring your own image\n",
    "- \n",
    "8) read file into feature collection, display on map\n",
    "9) find cities that are within the good sky area\n",
    "10) select a city, create a drive time area of 3 hours\n",
    "11) Find cities outside the drive area\n",
    "\n"
   ]
  },
  {
   "cell_type": "code",
   "execution_count": 1,
   "id": "affecting-mystery",
   "metadata": {},
   "outputs": [],
   "source": [
    "from arcgis.gis import GIS"
   ]
  },
  {
   "cell_type": "markdown",
   "id": "italian-garlic",
   "metadata": {},
   "source": [
    "Let's create a gis connection to the public ArcGIS Online"
   ]
  },
  {
   "cell_type": "code",
   "execution_count": 2,
   "id": "biblical-treaty",
   "metadata": {},
   "outputs": [],
   "source": [
    "agol = GIS()"
   ]
  },
  {
   "cell_type": "code",
   "execution_count": 3,
   "id": "narrow-passenger",
   "metadata": {},
   "outputs": [
    {
     "data": {
      "application/vnd.jupyter.widget-view+json": {
       "model_id": "9437c525a3364d8299b6b96dba3eeea8",
       "version_major": 2,
       "version_minor": 0
      },
      "text/plain": [
       "MapView(layout=Layout(height='400px', width='100%'))"
      ]
     },
     "metadata": {},
     "output_type": "display_data"
    },
    {
     "data": {
      "text/html": [
       "<div class=\"map-static-img-preview-8294f1bb-d1a0-4c3c-becf-8df6cc64c2b2\"><img src=\"\"></img></div>"
      ],
      "text/plain": [
       "<IPython.core.display.HTML object>"
      ]
     },
     "metadata": {},
     "output_type": "display_data"
    },
    {
     "data": {
      "text/html": [
       "<div class=\"map-html-embed-preview-8294f1bb-d1a0-4c3c-becf-8df6cc64c2b2\"></div>"
      ],
      "text/plain": [
       "<IPython.core.display.HTML object>"
      ]
     },
     "metadata": {},
     "output_type": "display_data"
    }
   ],
   "source": [
    "m = agol.map()\n",
    "m"
   ]
  },
  {
   "cell_type": "code",
   "execution_count": 4,
   "id": "civic-legislature",
   "metadata": {},
   "outputs": [],
   "source": [
    "content = agol.content.search(query=\"title: eclipse AND owner:NWS.FWD_noaa\", \n",
    "                                item_type=\"Feature Layer\", \n",
    "                                max_items=15)"
   ]
  },
  {
   "cell_type": "code",
   "execution_count": 19,
   "id": "productive-miniature",
   "metadata": {},
   "outputs": [],
   "source": [
    "content = agol.content.search(query=\"id:80f6cd4b89734ec1adb541a789879727\", \n",
    "                                item_type=\"Feature Layer\", \n",
    "                                max_items=15)"
   ]
  },
  {
   "cell_type": "code",
   "execution_count": 20,
   "id": "legislative-treasurer",
   "metadata": {},
   "outputs": [
    {
     "data": {
      "text/plain": [
       "[<Item title:\"BLM NV Annular Solar Eclipse Duration Lines\" type:Feature Layer Collection owner:s76moore@blm.gov_BLM_EGIS>]"
      ]
     },
     "execution_count": 20,
     "metadata": {},
     "output_type": "execute_result"
    }
   ],
   "source": [
    "content"
   ]
  },
  {
   "cell_type": "code",
   "execution_count": 6,
   "id": "positive-young",
   "metadata": {},
   "outputs": [],
   "source": [
    "item = content[1]"
   ]
  },
  {
   "cell_type": "code",
   "execution_count": 7,
   "id": "remarkable-giving",
   "metadata": {},
   "outputs": [
    {
     "data": {
      "text/html": [
       "<div class=\"item_container\" style=\"height: auto; overflow: hidden; border: 1px solid #cfcfcf; border-radius: 2px; background: #f6fafa; line-height: 1.21429em; padding: 10px;\">\n",
       "                    <div class=\"item_left\" style=\"width: 210px; float: left;\">\n",
       "                       <a href='https://www.arcgis.com/home/item.html?id=12d5ada7da474b0cb678a3b067e67011' target='_blank'>\n",
       "                        <img src='https://www.arcgis.com/sharing/rest//content/items/12d5ada7da474b0cb678a3b067e67011/info/thumbnail/ago_downloaded.png' class=\"itemThumbnail\">\n",
       "                       </a>\n",
       "                    </div>\n",
       "\n",
       "                    <div class=\"item_right\"     style=\"float: none; width: auto; overflow: hidden;\">\n",
       "                        <a href='https://www.arcgis.com/home/item.html?id=12d5ada7da474b0cb678a3b067e67011' target='_blank'><b>2024_Eclipse_Shapefiles</b>\n",
       "                        </a>\n",
       "                        <br/>NASA Data for the Solar Eclipse on April 8th,2024. Shapefile includes center, path, duration and more.<img src='https://www.arcgis.com/home/js/jsapi/esri/css/images/item_type_icons/featureshosted16.png' style=\"vertical-align:middle;\">Feature Layer Collection by NWS.FWD_noaa\n",
       "                        <br/>Last Modified: February 22, 2024\n",
       "                        <br/>0 comments, 1250749 views\n",
       "                    </div>\n",
       "                </div>\n",
       "                "
      ],
      "text/plain": [
       "<Item title:\"2024_Eclipse_Shapefiles\" type:Feature Layer Collection owner:NWS.FWD_noaa>"
      ]
     },
     "execution_count": 7,
     "metadata": {},
     "output_type": "execute_result"
    }
   ],
   "source": [
    "item"
   ]
  },
  {
   "cell_type": "code",
   "execution_count": 8,
   "id": "arranged-northeast",
   "metadata": {},
   "outputs": [
    {
     "data": {
      "text/plain": [
       "[<FeatureLayer url:\"https://services2.arcgis.com/C8EMgrsFcRFL6LrL/arcgis/rest/services/2024_Eclipse_Shapefiles/FeatureServer/0\">,\n",
       " <FeatureLayer url:\"https://services2.arcgis.com/C8EMgrsFcRFL6LrL/arcgis/rest/services/2024_Eclipse_Shapefiles/FeatureServer/1\">,\n",
       " <FeatureLayer url:\"https://services2.arcgis.com/C8EMgrsFcRFL6LrL/arcgis/rest/services/2024_Eclipse_Shapefiles/FeatureServer/2\">,\n",
       " <FeatureLayer url:\"https://services2.arcgis.com/C8EMgrsFcRFL6LrL/arcgis/rest/services/2024_Eclipse_Shapefiles/FeatureServer/3\">,\n",
       " <FeatureLayer url:\"https://services2.arcgis.com/C8EMgrsFcRFL6LrL/arcgis/rest/services/2024_Eclipse_Shapefiles/FeatureServer/4\">,\n",
       " <FeatureLayer url:\"https://services2.arcgis.com/C8EMgrsFcRFL6LrL/arcgis/rest/services/2024_Eclipse_Shapefiles/FeatureServer/5\">,\n",
       " <FeatureLayer url:\"https://services2.arcgis.com/C8EMgrsFcRFL6LrL/arcgis/rest/services/2024_Eclipse_Shapefiles/FeatureServer/6\">,\n",
       " <FeatureLayer url:\"https://services2.arcgis.com/C8EMgrsFcRFL6LrL/arcgis/rest/services/2024_Eclipse_Shapefiles/FeatureServer/7\">]"
      ]
     },
     "execution_count": 8,
     "metadata": {},
     "output_type": "execute_result"
    }
   ],
   "source": [
    "item.layers"
   ]
  },
  {
   "cell_type": "code",
   "execution_count": 9,
   "id": "coral-roulette",
   "metadata": {},
   "outputs": [
    {
     "data": {
      "text/plain": [
       "{\n",
       "  \"currentVersion\": 11.2,\n",
       "  \"id\": 0,\n",
       "  \"name\": \"center\",\n",
       "  \"type\": \"Feature Layer\",\n",
       "  \"serviceItemId\": \"12d5ada7da474b0cb678a3b067e67011\",\n",
       "  \"cacheMaxAge\": 30,\n",
       "  \"displayField\": \"\",\n",
       "  \"description\": \"\",\n",
       "  \"copyrightText\": \"\",\n",
       "  \"defaultVisibility\": true,\n",
       "  \"editingInfo\": {\n",
       "    \"lastEditDate\": 1708267630164,\n",
       "    \"schemaLastEditDate\": 1708267630164,\n",
       "    \"dataLastEditDate\": 1708267630164\n",
       "  },\n",
       "  \"relationships\": [],\n",
       "  \"isDataVersioned\": false,\n",
       "  \"hasContingentValuesDefinition\": false,\n",
       "  \"supportsAppend\": true,\n",
       "  \"supportsCalculate\": true,\n",
       "  \"supportsASyncCalculate\": true,\n",
       "  \"supportsTruncate\": true,\n",
       "  \"supportsAttachmentsByUploadId\": true,\n",
       "  \"supportsAttachmentsResizing\": true,\n",
       "  \"supportsRollbackOnFailureParameter\": true,\n",
       "  \"supportsStatistics\": true,\n",
       "  \"supportsExceedsLimitStatistics\": true,\n",
       "  \"supportsAdvancedQueries\": true,\n",
       "  \"supportsValidateSql\": true,\n",
       "  \"supportsCoordinatesQuantization\": true,\n",
       "  \"supportsLayerOverrides\": true,\n",
       "  \"supportsTilesAndBasicQueriesMode\": true,\n",
       "  \"supportsFieldDescriptionProperty\": true,\n",
       "  \"supportsQuantizationEditMode\": true,\n",
       "  \"supportsApplyEditsWithGlobalIds\": false,\n",
       "  \"supportsMultiScaleGeometry\": true,\n",
       "  \"supportsReturningQueryGeometry\": true,\n",
       "  \"hasGeometryProperties\": true,\n",
       "  \"geometryProperties\": {\n",
       "    \"shapeLengthFieldName\": \"Shape__Length\",\n",
       "    \"units\": \"esriMeters\"\n",
       "  },\n",
       "  \"advancedQueryCapabilities\": {\n",
       "    \"supportsPagination\": true,\n",
       "    \"supportsQueryAttachmentsCountOnly\": true,\n",
       "    \"supportsPaginationOnAggregatedQueries\": true,\n",
       "    \"supportsQueryRelatedPagination\": true,\n",
       "    \"supportsQueryWithDistance\": true,\n",
       "    \"supportsReturningQueryExtent\": true,\n",
       "    \"supportsStatistics\": true,\n",
       "    \"supportsOrderBy\": true,\n",
       "    \"supportsDistinct\": true,\n",
       "    \"supportsQueryWithResultType\": true,\n",
       "    \"supportsSqlExpression\": true,\n",
       "    \"supportsAdvancedQueryRelated\": true,\n",
       "    \"supportsCountDistinct\": true,\n",
       "    \"supportsPercentileStatistics\": true,\n",
       "    \"supportsSpatialAggregationStatistics\": true,\n",
       "    \"supportedSpatialAggregationStatistics\": [\n",
       "      \"EnvelopeAggregate\",\n",
       "      \"CentroidAggregate\",\n",
       "      \"ConvexHullAggregate\"\n",
       "    ],\n",
       "    \"supportsLod\": true,\n",
       "    \"supportsQueryWithLodSR\": false,\n",
       "    \"supportedLodTypes\": [\n",
       "      \"geohash\"\n",
       "    ],\n",
       "    \"supportsReturningGeometryCentroid\": false,\n",
       "    \"supportsReturningGeometryEnvelope\": false,\n",
       "    \"supportsReturningGeometryProperties\": true,\n",
       "    \"supportsQueryWithDatumTransformation\": true,\n",
       "    \"supportsCurrentUserQueries\": true,\n",
       "    \"supportsHavingClause\": true,\n",
       "    \"supportsOutFieldSQLExpression\": true,\n",
       "    \"supportsMaxRecordCountFactor\": true,\n",
       "    \"supportsTopFeaturesQuery\": true,\n",
       "    \"supportsDisjointSpatialRel\": true,\n",
       "    \"supportsQueryWithCacheHint\": true,\n",
       "    \"supportedOperationsWithCacheHint\": [\n",
       "      \"query\",\n",
       "      \"queryTopFilter\",\n",
       "      \"queryAnalytics\",\n",
       "      \"queryAttachments\",\n",
       "      \"queryRelated\",\n",
       "      \"queryBins\"\n",
       "    ],\n",
       "    \"supportsQueryAnalytic\": true,\n",
       "    \"supportsQueryBins\": true,\n",
       "    \"supportsDefaultSR\": true,\n",
       "    \"supportsFullTextSearch\": true\n",
       "  },\n",
       "  \"advancedQueryAnalyticCapabilities\": {\n",
       "    \"supportsLinearRegression\": true,\n",
       "    \"supportsAsync\": true,\n",
       "    \"supportsPercentileAnalytic\": true\n",
       "  },\n",
       "  \"queryBinsCapabilities\": {\n",
       "    \"supportsAsync\": true,\n",
       "    \"supportsAutoIntervalBin\": true,\n",
       "    \"supportsFixedIntervalBin\": true,\n",
       "    \"supportsFixedBoundariesBin\": true,\n",
       "    \"supportsDateBin\": true,\n",
       "    \"supportedStatisticTypes\": [\n",
       "      \"COUNT\",\n",
       "      \"SUM\",\n",
       "      \"AVG\",\n",
       "      \"VAR\",\n",
       "      \"STDDEV\",\n",
       "      \"MIN\",\n",
       "      \"MAX\",\n",
       "      \"PERCENTILE_CONT\",\n",
       "      \"PERCENTILE_DISC\",\n",
       "      \"CentroidAggregate\",\n",
       "      \"EnvelopeAggregate\",\n",
       "      \"ConvexHullAggregate\"\n",
       "    ]\n",
       "  },\n",
       "  \"advancedEditingCapabilities\": {\n",
       "    \"supportedSqlFormatsInCalculate\": [\n",
       "      \"standard\"\n",
       "    ],\n",
       "    \"supportsAsyncApplyEdits\": true,\n",
       "    \"supportsReturnEditResults\": true,\n",
       "    \"supportsApplyEditsbyUploadID\": true,\n",
       "    \"supportedApplyEditsUploadIDFormats\": \"JSON\"\n",
       "  },\n",
       "  \"infoInEstimates\": [\n",
       "    \"extent\",\n",
       "    \"count\"\n",
       "  ],\n",
       "  \"useStandardizedQueries\": true,\n",
       "  \"geometryType\": \"esriGeometryPolyline\",\n",
       "  \"minScale\": 0,\n",
       "  \"maxScale\": 0,\n",
       "  \"extent\": {\n",
       "    \"xmin\": -12241992.532475734,\n",
       "    \"ymin\": 2156468.869093142,\n",
       "    \"xmax\": -5254628.395448696,\n",
       "    \"ymax\": 6275361.962109568,\n",
       "    \"spatialReference\": {\n",
       "      \"wkid\": 102100,\n",
       "      \"latestWkid\": 3857\n",
       "    }\n",
       "  },\n",
       "  \"drawingInfo\": {\n",
       "    \"renderer\": {\n",
       "      \"type\": \"simple\",\n",
       "      \"symbol\": {\n",
       "        \"type\": \"esriSLS\",\n",
       "        \"style\": \"esriSLSSolid\",\n",
       "        \"color\": [\n",
       "          165,\n",
       "          83,\n",
       "          183,\n",
       "          255\n",
       "        ],\n",
       "        \"width\": 1\n",
       "      }\n",
       "    },\n",
       "    \"transparency\": 0,\n",
       "    \"labelingInfo\": null\n",
       "  },\n",
       "  \"allowGeometryUpdates\": true,\n",
       "  \"hasAttachments\": false,\n",
       "  \"htmlPopupType\": \"esriServerHTMLPopupTypeNone\",\n",
       "  \"hasM\": false,\n",
       "  \"hasZ\": false,\n",
       "  \"objectIdField\": \"FID\",\n",
       "  \"uniqueIdField\": {\n",
       "    \"name\": \"FID\",\n",
       "    \"isSystemMaintained\": true\n",
       "  },\n",
       "  \"globalIdField\": \"\",\n",
       "  \"typeIdField\": \"\",\n",
       "  \"fields\": [\n",
       "    {\n",
       "      \"name\": \"FID\",\n",
       "      \"type\": \"esriFieldTypeOID\",\n",
       "      \"actualType\": \"int\",\n",
       "      \"alias\": \"FID\",\n",
       "      \"sqlType\": \"sqlTypeInteger\",\n",
       "      \"nullable\": false,\n",
       "      \"editable\": false,\n",
       "      \"domain\": null,\n",
       "      \"defaultValue\": null\n",
       "    },\n",
       "    {\n",
       "      \"name\": \"Name\",\n",
       "      \"type\": \"esriFieldTypeString\",\n",
       "      \"actualType\": \"nvarchar\",\n",
       "      \"alias\": \"Name\",\n",
       "      \"sqlType\": \"sqlTypeNVarchar\",\n",
       "      \"length\": 16,\n",
       "      \"nullable\": true,\n",
       "      \"editable\": true,\n",
       "      \"domain\": null,\n",
       "      \"defaultValue\": null\n",
       "    },\n",
       "    {\n",
       "      \"name\": \"Time0\",\n",
       "      \"type\": \"esriFieldTypeString\",\n",
       "      \"actualType\": \"nvarchar\",\n",
       "      \"alias\": \"Time0\",\n",
       "      \"sqlType\": \"sqlTypeNVarchar\",\n",
       "      \"length\": 16,\n",
       "      \"nullable\": true,\n",
       "      \"editable\": true,\n",
       "      \"domain\": null,\n",
       "      \"defaultValue\": null\n",
       "    },\n",
       "    {\n",
       "      \"name\": \"Time1\",\n",
       "      \"type\": \"esriFieldTypeString\",\n",
       "      \"actualType\": \"nvarchar\",\n",
       "      \"alias\": \"Time1\",\n",
       "      \"sqlType\": \"sqlTypeNVarchar\",\n",
       "      \"length\": 16,\n",
       "      \"nullable\": true,\n",
       "      \"editable\": true,\n",
       "      \"domain\": null,\n",
       "      \"defaultValue\": null\n",
       "    },\n",
       "    {\n",
       "      \"name\": \"Shape__Length\",\n",
       "      \"type\": \"esriFieldTypeDouble\",\n",
       "      \"actualType\": \"float\",\n",
       "      \"alias\": \"Shape__Length\",\n",
       "      \"sqlType\": \"sqlTypeFloat\",\n",
       "      \"nullable\": true,\n",
       "      \"editable\": false,\n",
       "      \"domain\": null,\n",
       "      \"defaultValue\": null\n",
       "    }\n",
       "  ],\n",
       "  \"indexes\": [\n",
       "    {\n",
       "      \"name\": \"Shape__Length_Index\",\n",
       "      \"fields\": \"Shape__Length\",\n",
       "      \"isAscending\": true,\n",
       "      \"isUnique\": false,\n",
       "      \"description\": \"\",\n",
       "      \"indexType\": \"Attribute\"\n",
       "    },\n",
       "    {\n",
       "      \"name\": \"PK__T_2024_E__C1BEA5A2220A2D62\",\n",
       "      \"fields\": \"FID\",\n",
       "      \"isAscending\": true,\n",
       "      \"isUnique\": true,\n",
       "      \"description\": \"clustered, unique, primary key\",\n",
       "      \"indexType\": \"Attribute\"\n",
       "    },\n",
       "    {\n",
       "      \"name\": \"user_14963.T_2024_ECLIPSE_SHAPEFILES_CENTER_Shape_sidx\",\n",
       "      \"fields\": \"Shape\",\n",
       "      \"isAscending\": true,\n",
       "      \"isUnique\": false,\n",
       "      \"description\": \"Shape Index\",\n",
       "      \"indexType\": \"Spatial\"\n",
       "    }\n",
       "  ],\n",
       "  \"dateFieldsTimeReference\": {\n",
       "    \"timeZone\": \"UTC\",\n",
       "    \"respectsDaylightSaving\": false\n",
       "  },\n",
       "  \"preferredTimeReference\": null,\n",
       "  \"types\": [],\n",
       "  \"templates\": [\n",
       "    {\n",
       "      \"name\": \"New Feature\",\n",
       "      \"description\": \"\",\n",
       "      \"drawingTool\": \"esriFeatureEditToolLine\",\n",
       "      \"prototype\": {\n",
       "        \"attributes\": {\n",
       "          \"Name\": null,\n",
       "          \"Time0\": null,\n",
       "          \"Time1\": null\n",
       "        }\n",
       "      }\n",
       "    }\n",
       "  ],\n",
       "  \"supportedQueryFormats\": \"JSON, geoJSON, PBF\",\n",
       "  \"supportedAppendFormats\": \"sqlite,geoPackage,shapefile,filegdb,featureCollection,geojson,csv,excel,jsonl,featureService\",\n",
       "  \"supportedAppendSourceFilterFormats\": \"sqlite,geoPackage,shapefile,filegdb,featureService\",\n",
       "  \"supportedExportFormats\": \"csv,shapefile,sqlite,geoPackage,filegdb,featureCollection,geojson,excel\",\n",
       "  \"supportedSpatialRelationships\": [\n",
       "    \"esriSpatialRelIntersects\",\n",
       "    \"esriSpatialRelContains\",\n",
       "    \"esriSpatialRelCrosses\",\n",
       "    \"esriSpatialRelEnvelopeIntersects\",\n",
       "    \"esriSpatialRelIndexIntersects\",\n",
       "    \"esriSpatialRelOverlaps\",\n",
       "    \"esriSpatialRelTouches\",\n",
       "    \"esriSpatialRelWithin\",\n",
       "    \"esriSpatialRelDisjoint\",\n",
       "    \"esriSpatialRelRelation\"\n",
       "  ],\n",
       "  \"supportedContingentValuesFormats\": \"JSON, PBF\",\n",
       "  \"supportedSyncDataOptions\": 4,\n",
       "  \"hasStaticData\": true,\n",
       "  \"maxRecordCount\": 2000,\n",
       "  \"standardMaxRecordCount\": 4000,\n",
       "  \"standardMaxRecordCountNoGeometry\": 32000,\n",
       "  \"tileMaxRecordCount\": 4000,\n",
       "  \"maxRecordCountFactor\": 1,\n",
       "  \"capabilities\": \"Query\"\n",
       "}"
      ]
     },
     "execution_count": 9,
     "metadata": {},
     "output_type": "execute_result"
    }
   ],
   "source": [
    "item.layers[0].properties"
   ]
  },
  {
   "cell_type": "code",
   "execution_count": 10,
   "id": "designing-season",
   "metadata": {},
   "outputs": [
    {
     "name": "stdout",
     "output_type": "stream",
     "text": [
      "0 center\n",
      "1 duration\n",
      "2 ppath\n",
      "3 ppath01\n",
      "4 umbra_hi\n",
      "5 umbra_lo\n",
      "6 upath_hi\n",
      "7 upath_lo\n"
     ]
    }
   ],
   "source": [
    "i = 0\n",
    "for l in item.layers:\n",
    "    print(i, l.properties[\"name\"])\n",
    "    i = i + 1"
   ]
  },
  {
   "cell_type": "code",
   "execution_count": 11,
   "id": "sharp-manual",
   "metadata": {},
   "outputs": [],
   "source": [
    "center_layer = item.layers[0]"
   ]
  },
  {
   "cell_type": "code",
   "execution_count": 12,
   "id": "hidden-oklahoma",
   "metadata": {},
   "outputs": [],
   "source": [
    "m.add_layer(center_layer, options={'opacity':0.3})"
   ]
  },
  {
   "cell_type": "code",
   "execution_count": 13,
   "id": "together-gasoline",
   "metadata": {},
   "outputs": [
    {
     "data": {
      "application/vnd.jupyter.widget-view+json": {
       "model_id": "9437c525a3364d8299b6b96dba3eeea8",
       "version_major": 2,
       "version_minor": 0
      },
      "text/plain": [
       "MapView(jupyter_target='lab', layout=Layout(height='400px', width='100%'), ready=True)"
      ]
     },
     "metadata": {},
     "output_type": "display_data"
    },
    {
     "data": {
      "text/html": [
       "<div class=\"map-static-img-preview-8294f1bb-d1a0-4c3c-becf-8df6cc64c2b2\"><img src=\"\"></img></div>"
      ],
      "text/plain": [
       "<IPython.core.display.HTML object>"
      ]
     },
     "metadata": {},
     "output_type": "display_data"
    },
    {
     "data": {
      "text/html": [
       "<div class=\"map-html-embed-preview-8294f1bb-d1a0-4c3c-becf-8df6cc64c2b2\"></div>"
      ],
      "text/plain": [
       "<IPython.core.display.HTML object>"
      ]
     },
     "metadata": {},
     "output_type": "display_data"
    }
   ],
   "source": [
    "m"
   ]
  },
  {
   "cell_type": "code",
   "execution_count": 14,
   "id": "palestinian-indie",
   "metadata": {},
   "outputs": [],
   "source": [
    "ppath_layer = item.layers[2]"
   ]
  },
  {
   "cell_type": "code",
   "execution_count": 15,
   "id": "female-commissioner",
   "metadata": {},
   "outputs": [],
   "source": [
    "m.add_layer(ppath_layer, options={'opacity':0.3})"
   ]
  },
  {
   "cell_type": "code",
   "execution_count": 16,
   "id": "present-wilson",
   "metadata": {},
   "outputs": [
    {
     "data": {
      "text/plain": [
       "True"
      ]
     },
     "execution_count": 16,
     "metadata": {},
     "output_type": "execute_result"
    }
   ],
   "source": [
    "m.remove_layers(layers=[ppath_layer])"
   ]
  },
  {
   "cell_type": "code",
   "execution_count": 17,
   "id": "minus-interference",
   "metadata": {},
   "outputs": [],
   "source": [
    "upath_lo_layer = item.layers[7]"
   ]
  },
  {
   "cell_type": "code",
   "execution_count": 18,
   "id": "tracked-dating",
   "metadata": {},
   "outputs": [],
   "source": [
    "m.add_layer(upath_lo_layer, options={'opacity':0.3})"
   ]
  },
  {
   "cell_type": "markdown",
   "id": "sixth-theory",
   "metadata": {},
   "source": [
    "In order to log in to the NOAA GeoPlatform, you need to create a \"client_id\" "
   ]
  },
  {
   "cell_type": "code",
   "execution_count": 21,
   "id": "veterinary-undergraduate",
   "metadata": {},
   "outputs": [
    {
     "name": "stdout",
     "output_type": "stream",
     "text": [
      "Please sign in to your GIS and paste the code that is obtained below.\n",
      "If a web browser does not automatically open, please navigate to the URL below yourself instead.\n",
      "Opening web browser to navigate to: https://noaa.maps.arcgis.com/sharing/rest/oauth2/authorize?response_type=code&client_id=sidPYKs786TiwBcz&redirect_uri=urn%3Aietf%3Awg%3Aoauth%3A2.0%3Aoob&state=AHQXYrViZgxeyGsgFCYFBR9F6fNZ11\n"
     ]
    },
    {
     "name": "stdin",
     "output_type": "stream",
     "text": [
      "Enter code obtained on signing in using SAML:  ············································································································································································································································\n"
     ]
    },
    {
     "name": "stderr",
     "output_type": "stream",
     "text": [
      "/opt/conda/lib/python3.8/site-packages/urllib3/connectionpool.py:1013: InsecureRequestWarning: Unverified HTTPS request is being made to host 'noaa.maps.arcgis.com'. Adding certificate verification is strongly advised. See: https://urllib3.readthedocs.io/en/latest/advanced-usage.html#ssl-warnings\n",
      "  warnings.warn(\n"
     ]
    }
   ],
   "source": [
    "gis = GIS(\"https://noaa.maps.arcgis.com\",client_id=\"sidPYKs786TiwBcz\")"
   ]
  },
  {
   "cell_type": "code",
   "execution_count": 22,
   "id": "sweet-breeding",
   "metadata": {},
   "outputs": [
    {
     "name": "stdout",
     "output_type": "stream",
     "text": [
      "Successfully logged in as: Tim.Haverland_noaa\n"
     ]
    }
   ],
   "source": [
    "print(\"Successfully logged in as: \" + gis.properties.user.username)"
   ]
  },
  {
   "cell_type": "markdown",
   "id": "excited-tokyo",
   "metadata": {},
   "source": [
    "Geocode a point"
   ]
  },
  {
   "cell_type": "code",
   "execution_count": 20,
   "id": "enclosed-means",
   "metadata": {},
   "outputs": [],
   "source": [
    "from arcgis.geocoding import geocode"
   ]
  },
  {
   "cell_type": "code",
   "execution_count": 21,
   "id": "drawn-account",
   "metadata": {},
   "outputs": [],
   "source": [
    "results = geocode('Burlington, VT',as_featureset=True)"
   ]
  },
  {
   "cell_type": "code",
   "execution_count": 22,
   "id": "psychological-theater",
   "metadata": {},
   "outputs": [
    {
     "data": {
      "text/plain": [
       "<FeatureSet> 3 features"
      ]
     },
     "execution_count": 22,
     "metadata": {},
     "output_type": "execute_result"
    }
   ],
   "source": [
    "results"
   ]
  },
  {
   "cell_type": "code",
   "execution_count": 23,
   "id": "offshore-secretariat",
   "metadata": {},
   "outputs": [
    {
     "data": {
      "text/plain": [
       "[{\"geometry\": {\"x\": -73.2109954, \"y\": 44.4759918, \"spatialReference\": {\"wkid\": 4326, \"latestWkid\": 4326}}, \"attributes\": {\"Loc_name\": \"World\", \"Status\": \"T\", \"Score\": 100, \"Match_addr\": \"Burlington, Vermont\", \"LongLabel\": \"Burlington, VT, USA\", \"ShortLabel\": \"Burlington\", \"Addr_type\": \"Locality\", \"Type\": \"City\", \"PlaceName\": \"Burlington\", \"Place_addr\": \"Burlington, Vermont\", \"Phone\": \"\", \"URL\": \"\", \"Rank\": 8.69, \"AddBldg\": \"\", \"AddNum\": \"\", \"AddNumFrom\": \"\", \"AddNumTo\": \"\", \"AddRange\": \"\", \"Side\": \"\", \"StPreDir\": \"\", \"StPreType\": \"\", \"StName\": \"\", \"StType\": \"\", \"StDir\": \"\", \"BldgType\": \"\", \"BldgName\": \"\", \"LevelType\": \"\", \"LevelName\": \"\", \"UnitType\": \"\", \"UnitName\": \"\", \"SubAddr\": \"\", \"StAddr\": \"\", \"Block\": \"\", \"Sector\": \"\", \"Nbrhd\": \"\", \"District\": \"\", \"City\": \"Burlington\", \"MetroArea\": \"\", \"Subregion\": \"Chittenden County\", \"Region\": \"Vermont\", \"RegionAbbr\": \"VT\", \"Territory\": \"\", \"Zone\": \"\", \"Postal\": \"\", \"PostalExt\": \"\", \"Country\": \"USA\", \"CntryName\": \"United States\", \"LangCode\": \"ENG\", \"Distance\": 0, \"X\": -73.2109954, \"Y\": 44.4759918, \"DisplayX\": -73.2109954, \"DisplayY\": 44.4759918, \"Xmin\": -73.2599954, \"Xmax\": -73.1619954, \"Ymin\": 44.4269918, \"Ymax\": 44.5249918, \"ExInfo\": \"\", \"OBJECTID\": 1}},\n",
       " {\"geometry\": {\"x\": -73.21207, \"y\": 44.47588, \"spatialReference\": {\"wkid\": 4326, \"latestWkid\": 4326}}, \"attributes\": {\"Loc_name\": \"World\", \"Status\": \"T\", \"Score\": 100, \"Match_addr\": \"Burlington, Vermont\", \"LongLabel\": \"Burlington, VT, USA\", \"ShortLabel\": \"Burlington\", \"Addr_type\": \"Locality\", \"Type\": \"City\", \"PlaceName\": \"Burlington\", \"Place_addr\": \"Burlington, Vermont\", \"Phone\": \"\", \"URL\": \"\", \"Rank\": 13.72, \"AddBldg\": \"\", \"AddNum\": \"\", \"AddNumFrom\": \"\", \"AddNumTo\": \"\", \"AddRange\": \"\", \"Side\": \"\", \"StPreDir\": \"\", \"StPreType\": \"\", \"StName\": \"\", \"StType\": \"\", \"StDir\": \"\", \"BldgType\": \"\", \"BldgName\": \"\", \"LevelType\": \"\", \"LevelName\": \"\", \"UnitType\": \"\", \"UnitName\": \"\", \"SubAddr\": \"\", \"StAddr\": \"\", \"Block\": \"\", \"Sector\": \"\", \"Nbrhd\": \"\", \"District\": \"\", \"City\": \"Burlington\", \"MetroArea\": \"\", \"Subregion\": \"Chittenden County\", \"Region\": \"Vermont\", \"RegionAbbr\": \"VT\", \"Territory\": \"\", \"Zone\": \"\", \"Postal\": \"\", \"PostalExt\": \"\", \"Country\": \"USA\", \"CntryName\": \"United States\", \"LangCode\": \"ENG\", \"Distance\": 0, \"X\": -73.21207, \"Y\": 44.47588, \"DisplayX\": -73.21207, \"DisplayY\": 44.47588, \"Xmin\": -73.26207, \"Xmax\": -73.16207, \"Ymin\": 44.42588, \"Ymax\": 44.52588, \"ExInfo\": \"\", \"OBJECTID\": 2}},\n",
       " {\"geometry\": {\"x\": -73.23148, \"y\": 44.48762, \"spatialReference\": {\"wkid\": 4326, \"latestWkid\": 4326}}, \"attributes\": {\"Loc_name\": \"World\", \"Status\": \"T\", \"Score\": 100, \"Match_addr\": \"Burlington, Vermont\", \"LongLabel\": \"Burlington, VT, USA\", \"ShortLabel\": \"Burlington\", \"Addr_type\": \"Locality\", \"Type\": \"City\", \"PlaceName\": \"Burlington\", \"Place_addr\": \"City of Burlington, Vermont\", \"Phone\": \"\", \"URL\": \"\", \"Rank\": 21, \"AddBldg\": \"\", \"AddNum\": \"\", \"AddNumFrom\": \"\", \"AddNumTo\": \"\", \"AddRange\": \"\", \"Side\": \"\", \"StPreDir\": \"\", \"StPreType\": \"\", \"StName\": \"\", \"StType\": \"\", \"StDir\": \"\", \"BldgType\": \"\", \"BldgName\": \"\", \"LevelType\": \"\", \"LevelName\": \"\", \"UnitType\": \"\", \"UnitName\": \"\", \"SubAddr\": \"\", \"StAddr\": \"\", \"Block\": \"\", \"Sector\": \"\", \"Nbrhd\": \"\", \"District\": \"\", \"City\": \"City of Burlington\", \"MetroArea\": \"\", \"Subregion\": \"Chittenden County\", \"Region\": \"Vermont\", \"RegionAbbr\": \"VT\", \"Territory\": \"\", \"Zone\": \"\", \"Postal\": \"\", \"PostalExt\": \"\", \"Country\": \"USA\", \"CntryName\": \"United States\", \"LangCode\": \"ENG\", \"Distance\": 0, \"X\": -73.23148, \"Y\": 44.48762, \"DisplayX\": -73.23148, \"DisplayY\": 44.48762, \"Xmin\": -73.28148, \"Xmax\": -73.18148, \"Ymin\": 44.43762, \"Ymax\": 44.53762, \"ExInfo\": \"\", \"OBJECTID\": 3}}]"
      ]
     },
     "execution_count": 23,
     "metadata": {},
     "output_type": "execute_result"
    }
   ],
   "source": [
    "results.features"
   ]
  },
  {
   "cell_type": "code",
   "execution_count": 24,
   "id": "electric-things",
   "metadata": {},
   "outputs": [
    {
     "data": {
      "text/plain": [
       "{\"geometry\": {\"x\": -73.2109954, \"y\": 44.4759918, \"spatialReference\": {\"wkid\": 4326, \"latestWkid\": 4326}}, \"attributes\": {\"Loc_name\": \"World\", \"Status\": \"T\", \"Score\": 100, \"Match_addr\": \"Burlington, Vermont\", \"LongLabel\": \"Burlington, VT, USA\", \"ShortLabel\": \"Burlington\", \"Addr_type\": \"Locality\", \"Type\": \"City\", \"PlaceName\": \"Burlington\", \"Place_addr\": \"Burlington, Vermont\", \"Phone\": \"\", \"URL\": \"\", \"Rank\": 8.69, \"AddBldg\": \"\", \"AddNum\": \"\", \"AddNumFrom\": \"\", \"AddNumTo\": \"\", \"AddRange\": \"\", \"Side\": \"\", \"StPreDir\": \"\", \"StPreType\": \"\", \"StName\": \"\", \"StType\": \"\", \"StDir\": \"\", \"BldgType\": \"\", \"BldgName\": \"\", \"LevelType\": \"\", \"LevelName\": \"\", \"UnitType\": \"\", \"UnitName\": \"\", \"SubAddr\": \"\", \"StAddr\": \"\", \"Block\": \"\", \"Sector\": \"\", \"Nbrhd\": \"\", \"District\": \"\", \"City\": \"Burlington\", \"MetroArea\": \"\", \"Subregion\": \"Chittenden County\", \"Region\": \"Vermont\", \"RegionAbbr\": \"VT\", \"Territory\": \"\", \"Zone\": \"\", \"Postal\": \"\", \"PostalExt\": \"\", \"Country\": \"USA\", \"CntryName\": \"United States\", \"LangCode\": \"ENG\", \"Distance\": 0, \"X\": -73.2109954, \"Y\": 44.4759918, \"DisplayX\": -73.2109954, \"DisplayY\": 44.4759918, \"Xmin\": -73.2599954, \"Xmax\": -73.1619954, \"Ymin\": 44.4269918, \"Ymax\": 44.5249918, \"ExInfo\": \"\", \"OBJECTID\": 1}}"
      ]
     },
     "execution_count": 24,
     "metadata": {},
     "output_type": "execute_result"
    }
   ],
   "source": [
    "results.features.pop(0)"
   ]
  },
  {
   "cell_type": "code",
   "execution_count": 25,
   "id": "organized-roads",
   "metadata": {},
   "outputs": [
    {
     "data": {
      "text/plain": [
       "{\"geometry\": {\"x\": -73.21207, \"y\": 44.47588, \"spatialReference\": {\"wkid\": 4326, \"latestWkid\": 4326}}, \"attributes\": {\"Loc_name\": \"World\", \"Status\": \"T\", \"Score\": 100, \"Match_addr\": \"Burlington, Vermont\", \"LongLabel\": \"Burlington, VT, USA\", \"ShortLabel\": \"Burlington\", \"Addr_type\": \"Locality\", \"Type\": \"City\", \"PlaceName\": \"Burlington\", \"Place_addr\": \"Burlington, Vermont\", \"Phone\": \"\", \"URL\": \"\", \"Rank\": 13.72, \"AddBldg\": \"\", \"AddNum\": \"\", \"AddNumFrom\": \"\", \"AddNumTo\": \"\", \"AddRange\": \"\", \"Side\": \"\", \"StPreDir\": \"\", \"StPreType\": \"\", \"StName\": \"\", \"StType\": \"\", \"StDir\": \"\", \"BldgType\": \"\", \"BldgName\": \"\", \"LevelType\": \"\", \"LevelName\": \"\", \"UnitType\": \"\", \"UnitName\": \"\", \"SubAddr\": \"\", \"StAddr\": \"\", \"Block\": \"\", \"Sector\": \"\", \"Nbrhd\": \"\", \"District\": \"\", \"City\": \"Burlington\", \"MetroArea\": \"\", \"Subregion\": \"Chittenden County\", \"Region\": \"Vermont\", \"RegionAbbr\": \"VT\", \"Territory\": \"\", \"Zone\": \"\", \"Postal\": \"\", \"PostalExt\": \"\", \"Country\": \"USA\", \"CntryName\": \"United States\", \"LangCode\": \"ENG\", \"Distance\": 0, \"X\": -73.21207, \"Y\": 44.47588, \"DisplayX\": -73.21207, \"DisplayY\": 44.47588, \"Xmin\": -73.26207, \"Xmax\": -73.16207, \"Ymin\": 44.42588, \"Ymax\": 44.52588, \"ExInfo\": \"\", \"OBJECTID\": 2}}"
      ]
     },
     "execution_count": 25,
     "metadata": {},
     "output_type": "execute_result"
    }
   ],
   "source": [
    "results.features.pop(0)"
   ]
  },
  {
   "cell_type": "code",
   "execution_count": 26,
   "id": "monthly-injury",
   "metadata": {},
   "outputs": [],
   "source": [
    "m.draw(results)"
   ]
  },
  {
   "cell_type": "markdown",
   "id": "buried-clark",
   "metadata": {},
   "source": [
    "Create Drive Time Area"
   ]
  },
  {
   "cell_type": "code",
   "execution_count": 27,
   "id": "twenty-substitute",
   "metadata": {},
   "outputs": [],
   "source": [
    "import arcgis.network as network"
   ]
  },
  {
   "cell_type": "code",
   "execution_count": 28,
   "id": "demonstrated-configuration",
   "metadata": {},
   "outputs": [],
   "source": [
    "service_area_url = gis.properties.helperServices.serviceArea.url"
   ]
  },
  {
   "cell_type": "code",
   "execution_count": 29,
   "id": "binding-playlist",
   "metadata": {},
   "outputs": [
    {
     "data": {
      "text/plain": [
       "'https://route.arcgis.com/arcgis/rest/services/World/ServiceAreas/NAServer/ServiceArea_World'"
      ]
     },
     "execution_count": 29,
     "metadata": {},
     "output_type": "execute_result"
    }
   ],
   "source": [
    "service_area_url"
   ]
  },
  {
   "cell_type": "code",
   "execution_count": 30,
   "id": "generous-gates",
   "metadata": {},
   "outputs": [],
   "source": [
    "sa_layer = network.ServiceAreaLayer(service_area_url, gis=gis)"
   ]
  },
  {
   "cell_type": "code",
   "execution_count": 31,
   "id": "distinct-orbit",
   "metadata": {},
   "outputs": [],
   "source": [
    "result = sa_layer.solve_service_area(results, default_breaks=[180], \n",
    "                                     travel_direction='esriNATravelDirectionFromFacility')"
   ]
  },
  {
   "cell_type": "code",
   "execution_count": 32,
   "id": "metric-secretariat",
   "metadata": {},
   "outputs": [],
   "source": [
    "from arcgis.features import Feature, FeatureSet"
   ]
  },
  {
   "cell_type": "code",
   "execution_count": 33,
   "id": "brutal-tourist",
   "metadata": {},
   "outputs": [],
   "source": [
    "poly_feat_list = []\n",
    "for polygon_dict in result['saPolygons']['features']:\n",
    "    f1 = Feature(polygon_dict['geometry'], polygon_dict['attributes'])\n",
    "    poly_feat_list.append(f1)"
   ]
  },
  {
   "cell_type": "code",
   "execution_count": 34,
   "id": "acting-thumbnail",
   "metadata": {},
   "outputs": [],
   "source": [
    "service_area_fset = FeatureSet(poly_feat_list, \n",
    "                         geometry_type=result['saPolygons']['geometryType'],\n",
    "                         spatial_reference= result['saPolygons']['spatialReference'])"
   ]
  },
  {
   "cell_type": "code",
   "execution_count": 35,
   "id": "dressed-penguin",
   "metadata": {},
   "outputs": [],
   "source": [
    "m.draw(service_area_fset)"
   ]
  },
  {
   "cell_type": "code",
   "execution_count": null,
   "id": "female-absence",
   "metadata": {},
   "outputs": [],
   "source": []
  }
 ],
 "metadata": {
  "kernelspec": {
   "display_name": "Python 3",
   "language": "python",
   "name": "python3"
  },
  "language_info": {
   "codemirror_mode": {
    "name": "ipython",
    "version": 3
   },
   "file_extension": ".py",
   "mimetype": "text/x-python",
   "name": "python",
   "nbconvert_exporter": "python",
   "pygments_lexer": "ipython3",
   "version": "3.8.6"
  }
 },
 "nbformat": 4,
 "nbformat_minor": 5
}
