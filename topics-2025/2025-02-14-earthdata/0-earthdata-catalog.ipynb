{
 "cells": [
  {
   "cell_type": "raw",
   "id": "d00560f9-1def-4210-b97c-34de75e49f0a",
   "metadata": {},
   "source": [
    "---\n",
    "title: \"NASA Earthdata Catalog\"\n",
    "author: Eli Holmes (NOAA)\n",
    "---"
   ]
  },
  {
   "cell_type": "markdown",
   "id": "4a641bf9-d33e-4357-bd2a-253275615570",
   "metadata": {},
   "source": [
    ">📘 Learning Objectives\n",
    ">\n",
    "> 1. Get an account at NASA Earthdata\n",
    "> 2. Find collection information from the Darthdata catalog.\n"
   ]
  },
  {
   "cell_type": "markdown",
   "id": "bf218d52-4c89-48a1-bbb0-567e2378e0db",
   "metadata": {},
   "source": [
    "## Summary\n",
    "\n",
    "In this tutorial we will get to know the NASA Earthdata catalog and assets. And learn how to get information on data collections.\n",
    "\n",
    "## Earthdata Login account\n",
    "\n",
    "An Earthdata Login account is required to access data from NASA Earthdata. Please visit <https://urs.earthdata.nasa.gov> to register and manage your Earthdata Login account. This account is free to create and only takes a moment to set up.  \n",
    "\n",
    "Once you have an account, test that you can log in."
   ]
  },
  {
   "cell_type": "code",
   "execution_count": 2,
   "id": "a944299b-4f83-425a-a248-27968c963480",
   "metadata": {
    "tags": []
   },
   "outputs": [],
   "source": [
    "import earthaccess\n",
    "auth = earthaccess.login()\n",
    "# are we authenticated?\n",
    "if not auth.authenticated:\n",
    "    # ask for credentials and persist them in a .netrc file\n",
    "    auth.login(strategy=\"interactive\", persist=True)"
   ]
  },
  {
   "cell_type": "markdown",
   "id": "97433540-1741-4f2e-abc0-8d82be7ec18b",
   "metadata": {},
   "source": [
    "### The Earthdata catalog search page\n",
    "\n",
    "How can we find the `shortname`, `concept_id`, and `doi` for collections not in the table above?. We can find these on the NASA Earthdata catalog search page and data collection pages.\n",
    "\n",
    "Let's head to <https://search.earthdata.nasa.gov/search>. Here is the front page. On the top left, you can type in text to search and below you can filter on specific criteria, like sensor. On the right are lists of data collections. Let's look at the information for a data collection.\n",
    "\n",
    "![](../images/search-earthdata.png)"
   ]
  },
  {
   "cell_type": "markdown",
   "id": "fc338480-abd9-488d-ba08-a0bb78e07395",
   "metadata": {},
   "source": [
    "### Data collection details\n",
    "\n",
    "Here I did a search for \"MUR-JPL-L4-GLOB-v4.1\" and the GHRSST Level 4 dataset is at the top. In the far right, you see 3 dots (in the red box). Click on that to go to the collection details page.\n",
    "\n",
    "![](../images/search-collection.png)"
   ]
  },
  {
   "cell_type": "markdown",
   "id": "efbe7a01-8178-45b7-9770-c440a070edb7",
   "metadata": {},
   "source": [
    "The collection details page has some keywords that can be used to specify a collection. In the red box, is the `shortname`, `version` and `doi`.\n",
    "\n",
    "![](../images/search-collection-details.png)\n"
   ]
  },
  {
   "cell_type": "markdown",
   "id": "6a4fc292-d7bb-4fe6-bd18-694f4ffb6529",
   "metadata": {},
   "source": [
    "Click on the View More Info to find the collection `concept_id`.\n",
    "\n",
    "![](../images/search-collection-id.png)"
   ]
  },
  {
   "cell_type": "markdown",
   "id": "3684ea9f-6a9e-4cda-af44-194bd462cf2b",
   "metadata": {},
   "source": [
    "### Example of some collection identifiers\n",
    "\n",
    "| Shortname | Collection Concept ID | DOI |\n",
    "| --- | --- | --- |\n",
    "| MUR-JPL-L4-GLOB-v4.1 | C1996881146-POCLOUD | 10.5067/GHGMR-4FJ04 |\n",
    "| AVHRR_OI-NCEI-L4-GLOB-v2.1 | C2036881712-POCLOUD | 10.5067/GHAAO-4BC21 |"
   ]
  },
  {
   "cell_type": "markdown",
   "id": "19efe75e-57c3-42b1-bf41-df970798bda0",
   "metadata": {},
   "source": [
    "## Conclusion\n",
    "\n",
    "This concludes the introduction to the NASA Earthdata collection identifiers. With the information in the table above we will use the Python earthaccess library to search the files in collections."
   ]
  },
  {
   "cell_type": "markdown",
   "id": "6aea33c5-f7ed-4357-a6b5-37fe07222738",
   "metadata": {},
   "source": [
    "---"
   ]
  }
 ],
 "metadata": {
  "kernelspec": {
   "display_name": "Python 3 (ipykernel)",
   "language": "python",
   "name": "python3"
  },
  "language_info": {
   "codemirror_mode": {
    "name": "ipython",
    "version": 3
   },
   "file_extension": ".py",
   "mimetype": "text/x-python",
   "name": "python",
   "nbconvert_exporter": "python",
   "pygments_lexer": "ipython3",
   "version": "3.12.8"
  }
 },
 "nbformat": 4,
 "nbformat_minor": 5
}
