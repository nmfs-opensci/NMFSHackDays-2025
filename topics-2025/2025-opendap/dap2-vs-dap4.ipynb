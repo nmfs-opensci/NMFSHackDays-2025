{
 "cells": [
  {
   "cell_type": "raw",
   "id": "65bb4095-7fcc-4e4f-94a7-e318ff31537f",
   "metadata": {},
   "source": [
    "---\n",
    "title: \"Comparing DAP2 and DAP4\"\n",
    "author: Eli Holmes (NOAA)\n",
    "---"
   ]
  },
  {
   "cell_type": "markdown",
   "id": "847670c9-73b2-42e5-87f3-03fde7342d49",
   "metadata": {},
   "source": [
    "[![Colab Badge](https://img.shields.io/badge/Open_in_Colab-blue?style=for-the-badge)][colab-link]\n",
    "<a href=\"javascript:void(0);\" onclick=\"openJupyterWidget('https://github.com/nmfs-opensci/nmfshackdays-2025/blob/main/topics-2025/2025-opendap/dap2-vs-dap4.ipynb');\">\n",
    "    <img src=\"https://img.shields.io/badge/Open_in_JupyterHub-orange?style=for-the-badge\" alt=\"JupyterHub Badge\">\n",
    "</a> [![Download Badge](https://img.shields.io/badge/Download-grey?style=for-the-badge)][download-link]\n",
    "\n",
    "[download-link]: https://nmfs-opensci.github.io/NMFSHackDays-2025/topics-2025/2025-opendap/dap2-vs-dap4.ipynb\n",
    "[colab-link]: https://colab.research.google.com/github/nmfs-opensci/nmfshackdays-2025/blob/main/topics-2025/2025-opendap/dap2-vs-dap4.ipynb\n",
    "[jupyter-link]: https://nmfs-openscapes.2i2c.cloud/hub/user-redirect/lab?fromURL=https://raw.githubusercontent.com/nmfs-opensci/nmfshackdays-2025/main/topics-2025/2025-opendap/dap2-vs-dap4.ipynb"
   ]
  },
  {
   "cell_type": "markdown",
   "id": "ded83b8a-8680-4812-9874-0cb17834201c",
   "metadata": {},
   "source": [
    "## Key Differences\n",
    "\n",
    "DAP2 is the older protocol and DAP4 is the newer. In this notebook, I will run some comparison code. Per ChapGPT here are some of the differences."
   ]
  },
  {
   "cell_type": "markdown",
   "id": "4e386a68-bcae-4d43-8ccf-833035c25119",
   "metadata": {},
   "source": [
    "| Feature               | **DAP2** | **DAP4** |\n",
    "|-----------------------|---------|---------|\n",
    "| **Data Model**        | Supports simple types (e.g., integers, floats, strings, arrays) and some complex structures. | Supports a richer set of data types, including better handling of nested structures and new metadata constructs. |\n",
    "| **Data Encoding**     | Uses ASCII and binary (older, less efficient encoding). | Uses more modern binary encoding, including NetCDF-4/HDF5-like structures. |\n",
    "| **Metadata Handling** | Limited support for additional metadata. | Supports richer metadata, allowing self-describing datasets. |\n",
    "| **Chunked Data Access** | Limited ability to access specific parts of large datasets. | Improved ability to request and return chunks of data efficiently. |\n",
    "| **Support for Modern Formats** | Less support for modern formats like HDF5 and NetCDF-4. | Native support for HDF5 and NetCDF-4, allowing better integration with existing scientific workflows. |\n",
    "| **Efficient Transfers** | Less efficient for large datasets. | More efficient for large datasets due to better compression and structured data requests. |\n",
    "| **Constraint Expressions** | Limited filtering and subsetting capabilities. | More expressive constraints, enabling more sophisticated data selection. |\n"
   ]
  },
  {
   "cell_type": "markdown",
   "id": "32cf9a05-1578-42fa-918c-872f73cc4d6a",
   "metadata": {},
   "source": [
    "## Setup"
   ]
  },
  {
   "cell_type": "code",
   "execution_count": 15,
   "id": "47acdce9-d309-46b9-84cd-05aa839a75fb",
   "metadata": {},
   "outputs": [],
   "source": [
    "import earthaccess\n",
    "import pydap\n",
    "import xarray as xr\n",
    "earthaccess.login()\n",
    "session = earthaccess.get_requests_https_session()"
   ]
  },
  {
   "cell_type": "markdown",
   "id": "7066d00d-de0e-4329-9e2f-e490ff6792a6",
   "metadata": {},
   "source": [
    "## Comparison\n",
    "\n",
    "This dataset has both DAP4 and DAP2 access: <https://goldsmr1.gesdisc.eosdis.nasa.gov/opendap/hyrax/MERRA/MAI1NXINT.5.2.0/2016/01/contents.html>\n",
    "\n",
    "If we use `https://` in the url, pydap will automatically use DAP2. To use DAP4, we use `dap4://` instead. pydap issues a warning if we are accessing with DAP2, so let's turn that off."
   ]
  },
  {
   "cell_type": "code",
   "execution_count": 2,
   "id": "3a6c4542-cd53-43c6-a052-346af082ab22",
   "metadata": {},
   "outputs": [],
   "source": [
    "import warnings\n",
    "\n",
    "# Suppress only the specific warning from PyDAP\n",
    "warnings.filterwarnings(\"ignore\", message=\"PyDAP was unable to determine the DAP protocol*\", category=UserWarning)"
   ]
  },
  {
   "cell_type": "markdown",
   "id": "36fe335c-21cc-4590-a76a-67bb1b710392",
   "metadata": {},
   "source": [
    "### DAP4 is faster for data lazy loading"
   ]
  },
  {
   "cell_type": "code",
   "execution_count": 16,
   "id": "584e4d13-eb1e-4ac4-bd76-a962e06df944",
   "metadata": {},
   "outputs": [
    {
     "name": "stdout",
     "output_type": "stream",
     "text": [
      "CPU times: user 111 ms, sys: 8.42 ms, total: 119 ms\n",
      "Wall time: 6.84 s\n"
     ]
    }
   ],
   "source": [
    "%%time\n",
    "url = \"https://goldsmr1.gesdisc.eosdis.nasa.gov/opendap/MERRA/MAI1NXINT.5.2.0/2016/01/MERRA300.prod.assim.inst1_2d_int_Nx.20160101.hdf\"\n",
    "ds2 = xr.open_dataset(url, engine=\"pydap\", session=session)"
   ]
  },
  {
   "cell_type": "code",
   "execution_count": 18,
   "id": "1fc84bdb-68a0-479a-86ed-f219bfa1c341",
   "metadata": {},
   "outputs": [
    {
     "name": "stdout",
     "output_type": "stream",
     "text": [
      "CPU times: user 56.9 ms, sys: 9.32 ms, total: 66.2 ms\n",
      "Wall time: 3.32 s\n"
     ]
    }
   ],
   "source": [
    "%%time\n",
    "url = \"dap4://goldsmr1.gesdisc.eosdis.nasa.gov/opendap/MERRA/MAI1NXINT.5.2.0/2016/01/MERRA300.prod.assim.inst1_2d_int_Nx.20160101.hdf\"\n",
    "ds4 = xr.open_dataset(url, engine=\"pydap\", session=session)"
   ]
  },
  {
   "cell_type": "markdown",
   "id": "7f66eaea-2653-4fd1-ab69-092a6f33f04d",
   "metadata": {},
   "source": [
    "### DAP4 adds slashes to the dims\n",
    "\n",
    "This is not a pydap thing. You can see it on the OPeNDAP access page too."
   ]
  },
  {
   "cell_type": "code",
   "execution_count": 116,
   "id": "f0e67e74-bde8-46e8-a755-d41b8852faa5",
   "metadata": {},
   "outputs": [
    {
     "data": {
      "text/plain": [
       "FrozenMappingWarningOnValuesAccess({'/TIME': 24, '/YDim': 361, '/XDim': 540})"
      ]
     },
     "execution_count": 116,
     "metadata": {},
     "output_type": "execute_result"
    }
   ],
   "source": [
    "ds4.dims"
   ]
  },
  {
   "cell_type": "code",
   "execution_count": 117,
   "id": "ecbbfd6b-19bf-4d16-a062-bd5e50d106fe",
   "metadata": {},
   "outputs": [
    {
     "data": {
      "text/plain": [
       "FrozenMappingWarningOnValuesAccess({'TIME': 24, 'YDim': 361, 'XDim': 540})"
      ]
     },
     "execution_count": 117,
     "metadata": {},
     "output_type": "execute_result"
    }
   ],
   "source": [
    "ds2.dims"
   ]
  },
  {
   "cell_type": "markdown",
   "id": "5665386a-9c9f-42e2-b45a-f29d607197f5",
   "metadata": {},
   "source": [
    "### Data loading time is faster with DAP2\n",
    "\n",
    "At least in this example."
   ]
  },
  {
   "cell_type": "code",
   "execution_count": 121,
   "id": "320b179d-f986-488e-807d-88314905d4b8",
   "metadata": {},
   "outputs": [
    {
     "name": "stdout",
     "output_type": "stream",
     "text": [
      "CPU times: user 56.2 ms, sys: 3.21 ms, total: 59.4 ms\n",
      "Wall time: 3.55 s\n"
     ]
    }
   ],
   "source": [
    "%%time\n",
    "ds4[\"TQL\"].isel({\"/TIME\": 2, \"/YDim\": 10}).load();"
   ]
  },
  {
   "cell_type": "code",
   "execution_count": 122,
   "id": "145b548e-abd2-4af7-9afc-cd292db37b67",
   "metadata": {},
   "outputs": [
    {
     "name": "stdout",
     "output_type": "stream",
     "text": [
      "CPU times: user 16.9 ms, sys: 0 ns, total: 16.9 ms\n",
      "Wall time: 977 ms\n"
     ]
    }
   ],
   "source": [
    "%%time\n",
    "ds2[\"TQL\"].isel({\"TIME\": 2, \"YDim\": 10}).load();"
   ]
  },
  {
   "cell_type": "markdown",
   "id": "45f4a6ae-1742-49e9-94e7-ba2e2d4fcecf",
   "metadata": {},
   "source": [
    "### Mean is not too different\n",
    "\n",
    "Need to reset up data since I loaded the data in the previous example."
   ]
  },
  {
   "cell_type": "code",
   "execution_count": 6,
   "id": "b36bac91-a086-49b2-8a71-65500febe620",
   "metadata": {},
   "outputs": [
    {
     "name": "stdout",
     "output_type": "stream",
     "text": [
      "CPU times: user 674 ms, sys: 57.7 ms, total: 732 ms\n",
      "Wall time: 7.5 s\n"
     ]
    }
   ],
   "source": [
    "%%time\n",
    "url = \"https://goldsmr1.gesdisc.eosdis.nasa.gov/opendap/MERRA/MAI1NXINT.5.2.0/2016/01/MERRA300.prod.assim.inst1_2d_int_Nx.20160101.hdf\"\n",
    "ds2 = xr.open_dataset(url, engine=\"pydap\", session=session)"
   ]
  },
  {
   "cell_type": "code",
   "execution_count": 7,
   "id": "093637dd-4a08-4a60-adb4-304e162b4adb",
   "metadata": {},
   "outputs": [
    {
     "name": "stdout",
     "output_type": "stream",
     "text": [
      "CPU times: user 132 ms, sys: 76.9 ms, total: 208 ms\n",
      "Wall time: 2.61 s\n"
     ]
    }
   ],
   "source": [
    "%%time\n",
    "ds2[\"TQL\"].mean().compute();"
   ]
  },
  {
   "cell_type": "code",
   "execution_count": 8,
   "id": "c7ee0956-2cbe-44eb-b8f6-f71d1efd4b3b",
   "metadata": {},
   "outputs": [
    {
     "name": "stdout",
     "output_type": "stream",
     "text": [
      "CPU times: user 136 ms, sys: 8.96 ms, total: 145 ms\n",
      "Wall time: 3.59 s\n"
     ]
    }
   ],
   "source": [
    "%%time\n",
    "url = \"dap4://goldsmr1.gesdisc.eosdis.nasa.gov/opendap/MERRA/MAI1NXINT.5.2.0/2016/01/MERRA300.prod.assim.inst1_2d_int_Nx.20160101.hdf\"\n",
    "ds4 = xr.open_dataset(url, engine=\"pydap\", session=session)"
   ]
  },
  {
   "cell_type": "code",
   "execution_count": 9,
   "id": "421e6e00-b15f-45ec-9b4f-0770687bf6eb",
   "metadata": {},
   "outputs": [
    {
     "name": "stdout",
     "output_type": "stream",
     "text": [
      "CPU times: user 144 ms, sys: 66.7 ms, total: 210 ms\n",
      "Wall time: 2.44 s\n"
     ]
    }
   ],
   "source": [
    "%%time\n",
    "ds4[\"TQL\"].mean().compute();"
   ]
  },
  {
   "cell_type": "markdown",
   "id": "a2d3fc09-cf9b-4ded-b26a-c739ff18fed5",
   "metadata": {},
   "source": [
    "### Adding constraints decreases lazy loading time but DAP4 still faster\n",
    "\n",
    "For DAP4, add `?dap4.ce=/TQL` to select just TQL. For DAP2, add `?TQL`."
   ]
  },
  {
   "cell_type": "code",
   "execution_count": 130,
   "id": "23436055-9770-487c-add1-c209ae87941a",
   "metadata": {},
   "outputs": [
    {
     "name": "stdout",
     "output_type": "stream",
     "text": [
      "CPU times: user 36 ms, sys: 0 ns, total: 36 ms\n",
      "Wall time: 1.74 s\n"
     ]
    }
   ],
   "source": [
    "%%time\n",
    "url = \"https://goldsmr1.gesdisc.eosdis.nasa.gov/opendap/MERRA/MAI1NXINT.5.2.0/2016/01/MERRA300.prod.assim.inst1_2d_int_Nx.20160101.hdf?TQL\"\n",
    "#pydap_ds2 = pydap.client.open_url(url, protocol=\"dap2\", session=session)\n",
    "ds2 = xr.open_dataset(url, engine=\"pydap\", session=session)"
   ]
  },
  {
   "cell_type": "code",
   "execution_count": 131,
   "id": "5ffa3fb6-7ad1-4f00-9077-ff93d824b531",
   "metadata": {},
   "outputs": [
    {
     "name": "stdout",
     "output_type": "stream",
     "text": [
      "CPU times: user 15.1 ms, sys: 7.53 ms, total: 22.6 ms\n",
      "Wall time: 947 ms\n"
     ]
    }
   ],
   "source": [
    "%%time\n",
    "url = \"dap4://goldsmr1.gesdisc.eosdis.nasa.gov/opendap/MERRA/MAI1NXINT.5.2.0/2016/01/MERRA300.prod.assim.inst1_2d_int_Nx.20160101.hdf?dap4.ce=/TQL\"\n",
    "ds4 = xr.open_dataset(url, engine=\"pydap\", session=session)"
   ]
  },
  {
   "cell_type": "markdown",
   "id": "45029ae1-d16a-48a3-b388-26cb57cce4cc",
   "metadata": {},
   "source": [
    "### xarray.open_mfdataset is faster with DAP4\n",
    "\n",
    "Though speed difference has decreased from using `xarray.open_dataset`."
   ]
  },
  {
   "cell_type": "code",
   "execution_count": 137,
   "id": "617b6014-306f-4e11-a9ea-7130db8f0bfa",
   "metadata": {},
   "outputs": [
    {
     "name": "stdout",
     "output_type": "stream",
     "text": [
      "CPU times: user 68.8 ms, sys: 5 ms, total: 73.8 ms\n",
      "Wall time: 968 ms\n"
     ]
    }
   ],
   "source": [
    "%%time\n",
    "urls = [\n",
    "    \"dap4://goldsmr1.gesdisc.eosdis.nasa.gov/opendap/MERRA/MAI1NXINT.5.2.0/2016/01/MERRA300.prod.assim.inst1_2d_int_Nx.20160101.hdf?dap4.ce=/TQL\",\n",
    "    \"dap4://goldsmr1.gesdisc.eosdis.nasa.gov/opendap/MERRA/MAI1NXINT.5.2.0/2016/01/MERRA300.prod.assim.inst1_2d_int_Nx.20160102.hdf?dap4.ce=/TQL\",\n",
    "    \"dap4://goldsmr1.gesdisc.eosdis.nasa.gov/opendap/MERRA/MAI1NXINT.5.2.0/2016/01/MERRA300.prod.assim.inst1_2d_int_Nx.20160103.hdf?dap4.ce=/TQL\"\n",
    "]\n",
    "ds4 = xr.open_mfdataset(urls, engine=\"pydap\",\n",
    "                        parallel=True, \n",
    "                        combine='nested', \n",
    "                        concat_dim='/TIME',\n",
    "                        session=session)"
   ]
  },
  {
   "cell_type": "code",
   "execution_count": 135,
   "id": "c9bc1301-73fc-49b7-9b04-9e2277b3ec91",
   "metadata": {},
   "outputs": [
    {
     "name": "stdout",
     "output_type": "stream",
     "text": [
      "CPU times: user 114 ms, sys: 11.1 ms, total: 125 ms\n",
      "Wall time: 1.59 s\n"
     ]
    }
   ],
   "source": [
    "%%time\n",
    "urls = [\n",
    "    \"https://goldsmr1.gesdisc.eosdis.nasa.gov/opendap/MERRA/MAI1NXINT.5.2.0/2016/01/MERRA300.prod.assim.inst1_2d_int_Nx.20160101.hdf?TQL\",\n",
    "    \"https://goldsmr1.gesdisc.eosdis.nasa.gov/opendap/MERRA/MAI1NXINT.5.2.0/2016/01/MERRA300.prod.assim.inst1_2d_int_Nx.20160102.hdf?TQL\",\n",
    "    \"https://goldsmr1.gesdisc.eosdis.nasa.gov/opendap/MERRA/MAI1NXINT.5.2.0/2016/01/MERRA300.prod.assim.inst1_2d_int_Nx.20160103.hdf?TQL\"\n",
    "]\n",
    "ds2 = xr.open_mfdataset(urls, engine=\"pydap\",\n",
    "                        parallel=True, \n",
    "                        combine='nested', \n",
    "                        concat_dim='TIME',\n",
    "                        session=session)"
   ]
  },
  {
   "cell_type": "markdown",
   "id": "c6698ecc-fa2f-4d71-abb0-a1c518042726",
   "metadata": {},
   "source": [
    "### Mean is now faster with DAP4\n",
    "\n",
    "For this example."
   ]
  },
  {
   "cell_type": "code",
   "execution_count": 138,
   "id": "ded7dc07-0c1f-4e30-9d2d-e829368be76d",
   "metadata": {},
   "outputs": [
    {
     "name": "stdout",
     "output_type": "stream",
     "text": [
      "CPU times: user 475 ms, sys: 143 ms, total: 619 ms\n",
      "Wall time: 2.95 s\n"
     ]
    }
   ],
   "source": [
    "%%time\n",
    "ds4.mean().compute();"
   ]
  },
  {
   "cell_type": "code",
   "execution_count": 153,
   "id": "f2194fbc-57c5-4fd6-9583-fbb9231d426f",
   "metadata": {},
   "outputs": [
    {
     "name": "stdout",
     "output_type": "stream",
     "text": [
      "CPU times: user 393 ms, sys: 108 ms, total: 501 ms\n",
      "Wall time: 3.12 s\n"
     ]
    }
   ],
   "source": [
    "%%time\n",
    "ds2.mean().compute();"
   ]
  },
  {
   "cell_type": "markdown",
   "id": "8da7ebe5-d2bd-406c-aff9-ac1ef83526b4",
   "metadata": {},
   "source": [
    "### Effect of rechunking doesn't seem to be different\n",
    "\n",
    "all the ds's are like this to start. Rechunking doesn't seem to slow one down more than another."
   ]
  },
  {
   "cell_type": "code",
   "execution_count": 140,
   "id": "b1ee57dd-262a-43b3-acde-009ee96f88bf",
   "metadata": {},
   "outputs": [
    {
     "name": "stdout",
     "output_type": "stream",
     "text": [
      "((24, 24, 24), (361,), (540,))\n"
     ]
    }
   ],
   "source": [
    "print(ds4[\"TQL\"].chunks)"
   ]
  },
  {
   "cell_type": "code",
   "execution_count": 144,
   "id": "dabecb3e-76da-45dd-802a-bfe7d81662b6",
   "metadata": {},
   "outputs": [],
   "source": [
    "ds2_rechunked = ds2.chunk({\"TIME\": 2, \"XDim\": 25, \"YDim\": 25})"
   ]
  },
  {
   "cell_type": "code",
   "execution_count": 146,
   "id": "3ff6d198-5a04-4456-8b17-4a75387e7c4c",
   "metadata": {},
   "outputs": [
    {
     "name": "stdout",
     "output_type": "stream",
     "text": [
      "CPU times: user 9.39 s, sys: 1.28 s, total: 10.7 s\n",
      "Wall time: 11.9 s\n"
     ]
    }
   ],
   "source": [
    "%%time\n",
    "ds2_rechunked.mean().compute();"
   ]
  },
  {
   "cell_type": "code",
   "execution_count": 147,
   "id": "0acc1bcd-6150-429e-82e5-eccfa41aa173",
   "metadata": {},
   "outputs": [],
   "source": [
    "ds4_rechunked = ds4.chunk({\"/TIME\": 2, \"/XDim\": 25, \"/YDim\": 25})"
   ]
  },
  {
   "cell_type": "code",
   "execution_count": 148,
   "id": "af749fd3-9060-4166-8467-029a566aafa9",
   "metadata": {},
   "outputs": [
    {
     "name": "stdout",
     "output_type": "stream",
     "text": [
      "CPU times: user 9.06 s, sys: 1.29 s, total: 10.4 s\n",
      "Wall time: 11.4 s\n"
     ]
    }
   ],
   "source": [
    "%%time\n",
    "ds4_rechunked.mean().compute();"
   ]
  },
  {
   "cell_type": "code",
   "execution_count": 149,
   "id": "935211dc-a9e6-4224-a812-f5e5e5301598",
   "metadata": {},
   "outputs": [],
   "source": [
    "ds2_rechunked = ds2.chunk({\"TIME\": 50, \"XDim\": -1, \"YDim\": -1})"
   ]
  },
  {
   "cell_type": "code",
   "execution_count": 150,
   "id": "10cdbeae-377c-4f14-916f-3f25786a0f7b",
   "metadata": {},
   "outputs": [
    {
     "name": "stdout",
     "output_type": "stream",
     "text": [
      "CPU times: user 411 ms, sys: 98 ms, total: 509 ms\n",
      "Wall time: 2.96 s\n"
     ]
    }
   ],
   "source": [
    "%%time\n",
    "ds2_rechunked.mean().compute();"
   ]
  },
  {
   "cell_type": "code",
   "execution_count": 151,
   "id": "cc9716ad-6da7-4940-af0d-39fc4f11d786",
   "metadata": {},
   "outputs": [],
   "source": [
    "ds4_rechunked = ds4.chunk({\"/TIME\": 50, \"/XDim\": -1, \"/YDim\": -1})"
   ]
  },
  {
   "cell_type": "code",
   "execution_count": 152,
   "id": "154393f3-d4a2-4f63-82e5-ae89ac29b5d5",
   "metadata": {},
   "outputs": [
    {
     "name": "stdout",
     "output_type": "stream",
     "text": [
      "CPU times: user 465 ms, sys: 182 ms, total: 647 ms\n",
      "Wall time: 2.85 s\n"
     ]
    }
   ],
   "source": [
    "%%time\n",
    "ds4_rechunked.mean().compute();"
   ]
  },
  {
   "cell_type": "markdown",
   "id": "ff046ca6-fb2b-4c04-8ae7-4339099e2ba2",
   "metadata": {},
   "source": [
    "### Saving to netcdf\n",
    "\n",
    "Not too different. I have to do some clean up on the DAP4 dim names with slashes before saving."
   ]
  },
  {
   "cell_type": "code",
   "execution_count": 159,
   "id": "ef7e4bd1-3ac1-4284-8c05-144146f4daf5",
   "metadata": {},
   "outputs": [
    {
     "name": "stdout",
     "output_type": "stream",
     "text": [
      "CPU times: user 389 ms, sys: 178 ms, total: 567 ms\n",
      "Wall time: 4.17 s\n"
     ]
    }
   ],
   "source": [
    "%%time\n",
    "ds2.attrs = {}\n",
    "ds2.to_netcdf(\"output.nc\")"
   ]
  },
  {
   "cell_type": "code",
   "execution_count": 165,
   "id": "8b0e630d-2c65-4c99-8e22-461dd7119f04",
   "metadata": {},
   "outputs": [],
   "source": [
    "ds4_clean = ds4.rename({\"/TIME\": \"TIME\", \"/YDim\": \"YDim\", \"/XDim\": \"XDim\"})"
   ]
  },
  {
   "cell_type": "code",
   "execution_count": 166,
   "id": "7a858ce5-5652-4349-b615-15ee9470c19b",
   "metadata": {},
   "outputs": [
    {
     "name": "stdout",
     "output_type": "stream",
     "text": [
      "CPU times: user 554 ms, sys: 190 ms, total: 744 ms\n",
      "Wall time: 3.66 s\n"
     ]
    }
   ],
   "source": [
    "%%time\n",
    "ds4_clean.attrs = {}\n",
    "ds4_clean.to_netcdf(\"output.nc\")"
   ]
  },
  {
   "cell_type": "markdown",
   "id": "948e0daa-9ed5-42e9-b0fd-294005d970a6",
   "metadata": {},
   "source": [
    "## Conclusion\n",
    "\n",
    "The main difference I was able to see with these tests is that lazy loading was faster with DAP4, but this was evidenced mostly when using `open_dataset`. One the xarray Dataset was lazy loading, loading the data or doing computations (mean) was similar or sometimes faster when DAP2 was used."
   ]
  },
  {
   "cell_type": "code",
   "execution_count": null,
   "id": "e7000dc9-854d-432c-a70b-5f36a5675cce",
   "metadata": {},
   "outputs": [],
   "source": []
  },
  {
   "cell_type": "code",
   "execution_count": 19,
   "id": "2884bc9e-ac2f-4203-b9a2-20a9ae3728ee",
   "metadata": {},
   "outputs": [
    {
     "data": {
      "text/plain": [
       "299.44264"
      ]
     },
     "execution_count": 19,
     "metadata": {},
     "output_type": "execute_result"
    }
   ],
   "source": [
    "ds4.nbytes / 1e6"
   ]
  },
  {
   "cell_type": "code",
   "execution_count": null,
   "id": "3fc87f70-a65d-4e3d-a7be-29a5f0cbb759",
   "metadata": {},
   "outputs": [],
   "source": []
  }
 ],
 "metadata": {
  "kernelspec": {
   "display_name": "Python 3 (ipykernel)",
   "language": "python",
   "name": "python3"
  },
  "language_info": {
   "codemirror_mode": {
    "name": "ipython",
    "version": 3
   },
   "file_extension": ".py",
   "mimetype": "text/x-python",
   "name": "python",
   "nbconvert_exporter": "python",
   "pygments_lexer": "ipython3",
   "version": "3.12.9"
  }
 },
 "nbformat": 4,
 "nbformat_minor": 5
}
