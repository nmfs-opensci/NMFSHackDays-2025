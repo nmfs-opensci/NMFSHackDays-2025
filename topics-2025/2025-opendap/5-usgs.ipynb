{
 "cells": [
  {
   "cell_type": "raw",
   "id": "c3e00b7a-1785-4ad3-804d-5819796c4d34",
   "metadata": {},
   "source": [
    "---\n",
    "title: \"Accessing data on the USGS LPDAAC server via OPeNDAP protocol\"\n",
    "author: Eli Holmes (NOAA)\n",
    "---"
   ]
  },
  {
   "cell_type": "markdown",
   "id": "998ffd58-8ab5-482d-b552-f92f360d911f",
   "metadata": {},
   "source": [
    "[![Colab Badge](https://img.shields.io/badge/Open_in_Colab-blue?style=for-the-badge)][colab-link]\n",
    "<a href=\"javascript:void(0);\" onclick=\"openJupyterWidget('https://github.com/nmfs-opensci/nmfshackdays-2025/blob/main/topics-2025/2025-opendap/5-usgs.ipynb');\">\n",
    "    <img src=\"https://img.shields.io/badge/Open_in_JupyterHub-orange?style=for-the-badge\" alt=\"JupyterHub Badge\">\n",
    "</a> [![Download Badge](https://img.shields.io/badge/Download-grey?style=for-the-badge)][download-link]\n",
    "\n",
    "[download-link]: https://nmfs-opensci.github.io/NMFSHackDays-2025/topics-2025/2025-opendap/5-usgs.ipynb\n",
    "[colab-link]: https://colab.research.google.com/github/nmfs-opensci/nmfshackdays-2025/blob/main/topics-2025/2025-opendap/5-usgs.ipynb\n",
    "[jupyter-link]: https://nmfs-openscapes.2i2c.cloud/hub/user-redirect/lab?fromURL=https://raw.githubusercontent.com/nmfs-opensci/nmfshackdays-2025/main/topics-2025/2025-opendap/5-usgs.ipynb"
   ]
  },
  {
   "cell_type": "markdown",
   "id": "567a6268-e02b-44eb-a6d3-d4dec7701ce7",
   "metadata": {},
   "source": [
    "## Overview\n",
    "\n",
    "The USGS LPDAAC server requires NASA Earthdata login authentication, but doesn't require a EULA (as far as I know). However they have similar redirect issues as data that does require a EULA. I could not get the data into an xarray.\n",
    "\n",
    "### Prerequisites\n",
    "\n",
    "I assume you have a `.netrc` file at `~` (home). `~/.netrc` should look just like this with your username and password.\n",
    "\n",
    "```\n",
    "machine urs.earthdata.nasa.gov\n",
    "        login yourusername\n",
    "        password yourpassword\n",
    "```\n",
    "\n",
    "### Packages\n"
   ]
  },
  {
   "cell_type": "code",
   "execution_count": 22,
   "id": "108ce5a7-a596-41bf-9b2a-97c381607336",
   "metadata": {},
   "outputs": [],
   "source": [
    "import xarray as xr\n",
    "import pydap.client"
   ]
  },
  {
   "cell_type": "markdown",
   "id": "a34febe9-34c7-4f3a-b608-eddaf8b4bb5c",
   "metadata": {},
   "source": [
    "## USGS LPDAAC\n",
    "\n",
    "Their OPeNDAP server also uses NASA Earthdata login authentication."
   ]
  },
  {
   "cell_type": "code",
   "execution_count": 4,
   "id": "78fb6e16-2321-474e-84ed-a4bd3c9b6ad4",
   "metadata": {},
   "outputs": [],
   "source": [
    "# load username and password\n",
    "import netrc\n",
    "# Get credentials from .netrc\n",
    "auth_host = \"urs.earthdata.nasa.gov\"\n",
    "try:\n",
    "    credentials = netrc.netrc().authenticators(auth_host)\n",
    "    if credentials:\n",
    "        username, _, password = credentials\n",
    "    else:\n",
    "        raise ValueError(\"No credentials found in .netrc!\")\n",
    "except FileNotFoundError:\n",
    "    raise FileNotFoundError(\"Could not find ~/.netrc. Ensure it exists and is configured correctly.\")"
   ]
  },
  {
   "cell_type": "code",
   "execution_count": 33,
   "id": "46f04435-ecb7-4895-8f28-0b989e0a75f0",
   "metadata": {},
   "outputs": [],
   "source": [
    "url=\"https://opendap.cr.usgs.gov/opendap/hyrax/MOD13Q1.061/h09v06.ncml\""
   ]
  },
  {
   "cell_type": "code",
   "execution_count": 28,
   "id": "d87c5df6-7d00-49c5-b738-3442424904b7",
   "metadata": {},
   "outputs": [],
   "source": [
    "import pydap\n",
    "from pydap.client import open_url\n",
    "from pydap.cas.urs import setup_session\n",
    "session = setup_session(username, password)"
   ]
  },
  {
   "cell_type": "code",
   "execution_count": 39,
   "id": "dd2e89f8-4aed-46f4-887a-2f63ccc29da4",
   "metadata": {},
   "outputs": [],
   "source": [
    "# this works\n",
    "pydap_ds = open_url(url, session=session, protocol=\"dap4\")"
   ]
  },
  {
   "cell_type": "markdown",
   "id": "bff34b67-ce3f-47c7-8269-c34689d9630a",
   "metadata": {},
   "source": [
    "This doesn't work\n",
    "```\n",
    "store = xr.backends.PydapDataStore(pydap_ds)\n",
    "ds = xr.open_dataset(store)\n",
    "```"
   ]
  },
  {
   "cell_type": "markdown",
   "id": "e1a0c16c-d086-4f65-984e-1e3bc8f0b978",
   "metadata": {},
   "source": [
    "This doesn't either. Gives the same redirect error.\n",
    "```\n",
    "url=\"dap4://opendap.cr.usgs.gov/opendap/hyrax/MOD13Q1.061/h09v06.ncml\"\n",
    "ds = xr.open_dataset(url, engine=\"pydap\", session=session)\n",
    "```"
   ]
  },
  {
   "cell_type": "code",
   "execution_count": 40,
   "id": "aaaa1963-a372-43aa-a23a-66c60ea335ad",
   "metadata": {},
   "outputs": [],
   "source": [
    "# this is another url that works with pydap\n",
    "url = \"https://opendap.cr.usgs.gov/opendap/hyrax/ECOSTRESS/ECO2CLD.001/2018.07.09/ECOSTRESS_L2_CLOUD_00048_001_20180709T204901_0601_03.h5\"\n",
    "pydap_ds = open_url(url, session=session, protocol=\"dap4\")"
   ]
  },
  {
   "cell_type": "markdown",
   "id": "185e9f47-d1a8-48ae-91d2-569a45e56d9a",
   "metadata": {},
   "source": [
    "## Conclusion\n",
    "\n",
    "Working with USGS data on its OPeNDAP server is hard if you want an xarray object.\n",
    "\n",
    "## References\n",
    "\n",
    "* <https://github.com/pydap/pydap/issues/188>\n",
    "* <https://nsidc.org/data/user-resources/help-center/how-do-i-access-data-using-opendap#anchor-using-a-command-line-interface>\n",
    "\n"
   ]
  },
  {
   "cell_type": "code",
   "execution_count": null,
   "id": "5ab50a0d-ee13-4ca9-a359-2a25592e48c5",
   "metadata": {},
   "outputs": [],
   "source": []
  }
 ],
 "metadata": {
  "kernelspec": {
   "display_name": "Python 3 (ipykernel)",
   "language": "python",
   "name": "python3"
  },
  "language_info": {
   "codemirror_mode": {
    "name": "ipython",
    "version": 3
   },
   "file_extension": ".py",
   "mimetype": "text/x-python",
   "name": "python",
   "nbconvert_exporter": "python",
   "pygments_lexer": "ipython3",
   "version": "3.12.9"
  }
 },
 "nbformat": 4,
 "nbformat_minor": 5
}
