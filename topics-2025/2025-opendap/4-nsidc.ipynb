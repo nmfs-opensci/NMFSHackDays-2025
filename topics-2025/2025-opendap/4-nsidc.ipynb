{
 "cells": [
  {
   "cell_type": "raw",
   "id": "c3e00b7a-1785-4ad3-804d-5819796c4d34",
   "metadata": {},
   "source": [
    "---\n",
    "title: \"Accessing data on NSIDC servers via OPeNDAP protocol\"\n",
    "author: Eli Holmes (NOAA)\n",
    "---"
   ]
  },
  {
   "cell_type": "markdown",
   "id": "998ffd58-8ab5-482d-b552-f92f360d911f",
   "metadata": {},
   "source": [
    "[![Colab Badge](https://img.shields.io/badge/Open_in_Colab-blue?style=for-the-badge)][colab-link]\n",
    "<a href=\"javascript:void(0);\" onclick=\"openJupyterWidget('https://github.com/nmfs-opensci/nmfshackdays-2025/blob/main/topics-2025/2025-opendap/3-earthdata-auth.ipynb');\">\n",
    "    <img src=\"https://img.shields.io/badge/Open_in_JupyterHub-orange?style=for-the-badge\" alt=\"JupyterHub Badge\">\n",
    "</a> [![Download Badge](https://img.shields.io/badge/Download-grey?style=for-the-badge)][download-link]\n",
    "\n",
    "[download-link]: https://nmfs-opensci.github.io/NMFSHackDays-2025/topics-2025/2025-opendap/3-earthdata-auth.ipynb\n",
    "[colab-link]: https://colab.research.google.com/github/nmfs-opensci/nmfshackdays-2025/blob/main/topics-2025/2025-opendap/3-earthdata-auth.ipynb\n",
    "[jupyter-link]: https://nmfs-openscapes.2i2c.cloud/hub/user-redirect/lab?fromURL=https://raw.githubusercontent.com/nmfs-opensci/nmfshackdays-2025/main/topics-2025/2025-opendap/3-earthdata-auth.ipynb"
   ]
  },
  {
   "cell_type": "markdown",
   "id": "567a6268-e02b-44eb-a6d3-d4dec7701ce7",
   "metadata": {},
   "source": [
    "## Overview\n",
    "\n",
    "The National Snow and Ice Data Center servers require NASA Earthdata login authentication, but don't require a EULA (as far as I know). However they have similar redirect issues as data that does require a EULA. The solution used for datasets that require a EULA seems to work for access.\n",
    "\n",
    "I suggest going throuhg 3-nasa.ipynb before this tutorial.\n",
    "\n",
    "### Prerequisites\n",
    "\n",
    "I assume you have a `.netrc` file at `~` (home). `~/.netrc` should look just like this with your username and password.\n",
    "\n",
    "```\n",
    "machine urs.earthdata.nasa.gov\n",
    "        login yourusername\n",
    "        password yourpassword\n",
    "```\n",
    "\n",
    "### Packages and setup\n"
   ]
  },
  {
   "cell_type": "code",
   "execution_count": 1,
   "id": "108ce5a7-a596-41bf-9b2a-97c381607336",
   "metadata": {},
   "outputs": [],
   "source": [
    "import xarray as xr\n",
    "import pydap.client"
   ]
  },
  {
   "cell_type": "code",
   "execution_count": 2,
   "id": "2c2a97ca-0f6c-456f-9c2e-cc443232bccb",
   "metadata": {},
   "outputs": [],
   "source": [
    "# create an authenticated session\n",
    "import earthaccess\n",
    "earthaccess.login()\n",
    "edl_session = earthaccess.get_requests_https_session()"
   ]
  },
  {
   "cell_type": "markdown",
   "id": "a34febe9-34c7-4f3a-b608-eddaf8b4bb5c",
   "metadata": {},
   "source": [
    "## National Snow and Ice Data Center\n",
    "\n",
    "Their OPeNDAP server also uses NASA Earthdata login authentication. I struggled to find the right format for url that would open."
   ]
  },
  {
   "cell_type": "code",
   "execution_count": 3,
   "id": "46f04435-ecb7-4895-8f28-0b989e0a75f0",
   "metadata": {},
   "outputs": [],
   "source": [
    "#url = \"https://n5eil02u.ecs.nsidc.org/opendap/OTHR/NISE.004/2012.10.02/NISE_SSMISF17_20121002.HDFEOS\"\n",
    "url = \"https://n5eil02u.ecs.nsidc.org/opendap/MOST/MOD10A1.006/2000.03.22/MOD10A1.A2000082.h00v08.006.2016061212345.hdf\""
   ]
  },
  {
   "cell_type": "code",
   "execution_count": null,
   "id": "b6362f08-b9c4-4fa4-96e8-fbeb76adb6fd",
   "metadata": {},
   "outputs": [],
   "source": [
    "dap4_url = url.replace(\"https\", \"dap4\", 1)\n",
    "ds = xr.open_dataset(dap4_url, engine=\"pydap\", session=edl_session)\n",
    "ds"
   ]
  },
  {
   "cell_type": "code",
   "execution_count": 5,
   "id": "d87c5df6-7d00-49c5-b738-3442424904b7",
   "metadata": {},
   "outputs": [],
   "source": [
    "import pydap\n",
    "from pydap.client import open_url\n",
    "from pydap.cas.urs import setup_session\n",
    "session = setup_session(username, password, check_url=url)"
   ]
  },
  {
   "cell_type": "code",
   "execution_count": 6,
   "id": "dd2e89f8-4aed-46f4-887a-2f63ccc29da4",
   "metadata": {},
   "outputs": [],
   "source": [
    "pydap_ds = open_url(url, session=session, protocol=\"dap2\")"
   ]
  },
  {
   "cell_type": "code",
   "execution_count": 5,
   "id": "211f5c1a-3f00-495b-b78a-6d238d6bbb7e",
   "metadata": {},
   "outputs": [
    {
     "name": "stderr",
     "output_type": "stream",
     "text": [
      "/srv/conda/envs/notebook/lib/python3.12/site-packages/pydap/handlers/dap.py:123: UserWarning: PyDAP was unable to determine the DAP protocol defaulting to DAP2 which is consider legacy and may result in slower responses. For more, see go to https://www.opendap.org/faq-page.\n",
      "  _warnings.warn(\n",
      "/srv/conda/envs/notebook/lib/python3.12/site-packages/xarray/conventions.py:200: SerializationWarning: variable 'NDSI_Snow_Cover' has multiple fill values {np.int64(200), np.int64(255)} defined, decoding all values to NaN.\n",
      "  var = coder.decode(var, name=name)\n",
      "/srv/conda/envs/notebook/lib/python3.12/site-packages/xarray/conventions.py:200: SerializationWarning: variable 'Snow_Albedo_Daily_Tile' has multiple fill values {np.int64(250), np.int64(255)} defined, decoding all values to NaN.\n",
      "  var = coder.decode(var, name=name)\n"
     ]
    }
   ],
   "source": [
    "ds = xr.open_dataset(url, session=edl_session, engine=\"pydap\")"
   ]
  },
  {
   "cell_type": "code",
   "execution_count": 46,
   "id": "aaaa1963-a372-43aa-a23a-66c60ea335ad",
   "metadata": {},
   "outputs": [
    {
     "data": {
      "text/plain": [
       "<DatasetType with children 'NDSI_Snow_Cover', 'NDSI_Snow_Cover_Basic_QA', 'NDSI_Snow_Cover_Algorithm_Flags_QA', 'NDSI', 'Snow_Albedo_Daily_Tile', 'orbit_pnt', 'granule_pnt', 'Latitude', 'Longitude', 'YDim', 'XDim', 'MOD_Grid_Snow_500m_eos_cf_projection'>"
      ]
     },
     "execution_count": 46,
     "metadata": {},
     "output_type": "execute_result"
    }
   ],
   "source": [
    "pydap_ds"
   ]
  },
  {
   "cell_type": "code",
   "execution_count": 7,
   "id": "cd728814-72f6-4cd2-a1a4-a2051f3bc7c9",
   "metadata": {},
   "outputs": [
    {
     "name": "stderr",
     "output_type": "stream",
     "text": [
      "/srv/conda/envs/notebook/lib/python3.12/site-packages/xarray/conventions.py:200: SerializationWarning: variable 'NDSI_Snow_Cover' has multiple fill values {np.int64(200), np.int64(255)} defined, decoding all values to NaN.\n",
      "  var = coder.decode(var, name=name)\n",
      "/srv/conda/envs/notebook/lib/python3.12/site-packages/xarray/conventions.py:200: SerializationWarning: variable 'Snow_Albedo_Daily_Tile' has multiple fill values {np.int64(250), np.int64(255)} defined, decoding all values to NaN.\n",
      "  var = coder.decode(var, name=name)\n"
     ]
    },
    {
     "name": "stdout",
     "output_type": "stream",
     "text": [
      "CPU times: user 604 ms, sys: 44.7 ms, total: 649 ms\n",
      "Wall time: 1.18 s\n"
     ]
    }
   ],
   "source": [
    "%%time\n",
    "# this works but odd errors\n",
    "store = xr.backends.PydapDataStore(pydap_ds)\n",
    "ds = xr.open_dataset(store)"
   ]
  },
  {
   "cell_type": "code",
   "execution_count": 9,
   "id": "119476cb-330f-4d9f-9e58-35db2102f2a3",
   "metadata": {},
   "outputs": [
    {
     "name": "stderr",
     "output_type": "stream",
     "text": [
      "/srv/conda/envs/notebook/lib/python3.12/site-packages/pydap/handlers/dap.py:123: UserWarning: PyDAP was unable to determine the DAP protocol defaulting to DAP2 which is consider legacy and may result in slower responses. For more, see go to https://www.opendap.org/faq-page.\n",
      "  _warnings.warn(\n",
      "/srv/conda/envs/notebook/lib/python3.12/site-packages/xarray/conventions.py:200: SerializationWarning: variable 'NDSI_Snow_Cover' has multiple fill values {np.int64(200), np.int64(255)} defined, decoding all values to NaN.\n",
      "  var = coder.decode(var, name=name)\n",
      "/srv/conda/envs/notebook/lib/python3.12/site-packages/xarray/conventions.py:200: SerializationWarning: variable 'Snow_Albedo_Daily_Tile' has multiple fill values {np.int64(250), np.int64(255)} defined, decoding all values to NaN.\n",
      "  var = coder.decode(var, name=name)\n"
     ]
    },
    {
     "name": "stdout",
     "output_type": "stream",
     "text": [
      "CPU times: user 55 ms, sys: 15.3 ms, total: 70.2 ms\n",
      "Wall time: 1.09 s\n"
     ]
    }
   ],
   "source": [
    "%%time\n",
    "url=\"https://n5eil02u.ecs.nsidc.org/opendap/MOST/MOD10A1.006/2000.03.22/MOD10A1.A2000082.h00v08.006.2016061212345.hdf\"\n",
    "ds = xr.open_dataset(url, engine=\"pydap\", session=session)"
   ]
  },
  {
   "cell_type": "markdown",
   "id": "185e9f47-d1a8-48ae-91d2-569a45e56d9a",
   "metadata": {},
   "source": [
    "## Conclusion\n",
    "\n",
    "Working with NSIDC data on its OPeNDAP server is hard. Redirect issues though I can open files with xarray. But format is odd.\n",
    "\n",
    "## References\n",
    "\n",
    "* <https://github.com/pydap/pydap/issues/188>\n",
    "* <https://nsidc.org/data/user-resources/help-center/how-do-i-access-data-using-opendap#anchor-using-a-command-line-interface>\n",
    "\n"
   ]
  },
  {
   "cell_type": "code",
   "execution_count": null,
   "id": "5ab50a0d-ee13-4ca9-a359-2a25592e48c5",
   "metadata": {},
   "outputs": [],
   "source": []
  }
 ],
 "metadata": {
  "kernelspec": {
   "display_name": "Python 3 (ipykernel)",
   "language": "python",
   "name": "python3"
  },
  "language_info": {
   "codemirror_mode": {
    "name": "ipython",
    "version": 3
   },
   "file_extension": ".py",
   "mimetype": "text/x-python",
   "name": "python",
   "nbconvert_exporter": "python",
   "pygments_lexer": "ipython3",
   "version": "3.12.9"
  }
 },
 "nbformat": 4,
 "nbformat_minor": 5
}
